{
 "cells": [
  {
   "cell_type": "markdown",
   "metadata": {},
   "source": [
    "# 1. Getting Started with PyLapi"
   ]
  },
  {
   "cell_type": "markdown",
   "metadata": {},
   "source": [
    "Python Lightweight API (PyLapi) is a Python API builder. It takes only a few seconds to automatically generate a Python API from OpenAPI specifications or less than an hour for an experienced Python programmer to create a custom Python API.\n",
    "\n",
    "The auto-generated Python API contains fully functional resource classes with API methods embedded with OpenAPI specifications as inline comments, so you don't need to read the lengthy OpenAPI Specification to study or use the API."
   ]
  },
  {
   "cell_type": "markdown",
   "metadata": {},
   "source": [
    "---\n",
    "You can also manually \"rewrite\" some of the generated classes and methods in a separate code file, for example, by specifying custom parameters, pre-processing the request, or post-processing the response. The PyLapi generator will merge your code into the generated Python API.\n",
    "\n",
    "PyLapi's code-rewrite feature allows you to specify different API URLs for individual resources, effectively combining multiple API backend services into a single client API. All parameters and the request body are dynamically mapped based on the API method route, with the option to rewrite them if you so choose."
   ]
  },
  {
   "cell_type": "markdown",
   "metadata": {},
   "source": [
    "---\n",
    "When OpenAPI Specifications are not available or you want to create a Python API your own way, you can inherit your API class from PyLapi, which does all the heavy lifting for you, so your code would mostly be a `pass`.\n",
    "\n",
    "If you want to manipulate the API requests and responses, only minimal coding is required. In the tutorial [A ChatGPT Conversation with PyLapi](./3.%20A%20ChatGPT%20Conversation%20with%20PyLapi.ipynb), a fully functional Conversation resource is completed in 39 lines, including space lines for readability.\n",
    "\n",
    "Here is what a PyLapi-supported Python API would look like:\n",
    "\n",
    "```python\n",
    "from pylapi import PyLapi\n",
    "\n",
    "class MyAPI(PyLapi):\n",
    "    def __init__(self, *args, **kwargs) -> None:\n",
    "        super().__init__(*args, **kwargs)\n",
    "        self.api_url = \"https://api.example.com\"\n",
    "        self.api_auth_type = \"Bearer\"\n",
    "\n",
    "# resource_name=\"invoice\", resource_base_route\"invoices\"\n",
    "@MyAPI.resource_class(\"invoice\", \"invoices\")\n",
    "class InvoiceResource(MyAPI):\n",
    "\n",
    "    @MyAPI.resource_method(\"{invoice_number}\", http_method=\"GET\")\n",
    "    def getInvoice(self): pass\n",
    "    # To call: MyAPI.resource(\"invoice\").getInvoice(...)\n",
    "    # Request: GET https://api.example.com/invoices/{invoice_number}\n",
    "```\n",
    "\n",
    "The `MyAPI` API root class inherits the decorators `@MyAPI.resource_class` and `@MyAPI.resource_methods` from `PyLapi`, which prepares the API parameters and the request body in the API request, sends the request to the API URL route, processes the response, and handles the resource data for you."
   ]
  },
  {
   "cell_type": "markdown",
   "metadata": {},
   "source": [
    "---\n",
    "The PyLapi framework makes it very easy and natural for you to use a PyLapi-supported Python API. For example,\n",
    "\n",
    "```python\n",
    "from myapi import MyAPI\n",
    "\n",
    "MyAPI.auth(AUTH_ACCESS_TOKEN)\n",
    "\n",
    "invoice = MyAPI.resource(\"invoice\")\n",
    "invoice.data = invoice.getInvoice(\"12345678\") # using positional arguments\n",
    "print(invoice)\n",
    "\n",
    "item_list = invoice.getItemList()\n",
    "\n",
    "product = MyAPI.resource(\"product\")\n",
    "invoice_total = 0.0\n",
    "for item in item_list:\n",
    "    product.data.number = item[\"product_number\"]\n",
    "    product.data = product.getProduct() # using implicit arguments from product.data\n",
    "    subtotal = product.data.price * item[\"qty\"]\n",
    "    invoice_total += subtotal\n",
    "    print(f\"Item: {product.data.name}\")\n",
    "    print(f\"  Price: ${product.data.price:0.2f}\")\n",
    "    print(f\"  Qty: {item['qty']}\")\n",
    "    print(f\"  Subtotal: ${subtotal:0.2f}\")\n",
    "print(f\"Invoice Total: ${invoice_total:0.2f}\")\n",
    "```"
   ]
  },
  {
   "cell_type": "markdown",
   "metadata": {},
   "source": [
    "## Install PyLapi"
   ]
  },
  {
   "cell_type": "markdown",
   "metadata": {},
   "source": [
    "Please follow these instructions to install PyLapi and its generator, replacing all variables accordingly.\n"
   ]
  },
  {
   "cell_type": "markdown",
   "metadata": {},
   "source": [
    "To install the PyLapi class:\n",
    "```bash\n",
    "pip install pylapi\n",
    "```"
   ]
  },
  {
   "cell_type": "markdown",
   "metadata": {},
   "source": [
    "To install the PyLapi generator:\n",
    "\n",
    "```bash\n",
    "cd $PATH_TO_DEV_ENV\n",
    "git clone https://github.com/jackyko8/pylapi.git\n",
    "cd pylapi\n",
    "cp tools/pylapi_gen* $PATH_TO_BIN\n",
    "```"
   ]
  },
  {
   "cell_type": "markdown",
   "metadata": {},
   "source": [
    "To generate a PyLapi supported Python API:\n",
    "\n",
    "```bash\n",
    "cd $PATH_TO_MYAPI\n",
    "cp $PATH_TO_DEV_ENV/pylapi/tools/pylapi_config_template.py myapi_config.py\n",
    "# Configure myapi_config.py\n",
    "pylapi_gen myapi_config.py\n",
    "# Output\n",
    "# MyAPI generated and saved in ./myapi.py\n",
    "```"
   ]
  },
  {
   "cell_type": "markdown",
   "metadata": {},
   "source": [
    "## Automatic API Generation"
   ]
  },
  {
   "cell_type": "markdown",
   "metadata": {},
   "source": [
    "In this tutorial, we use the [GitHub REST API](https://docs.github.com/en/rest) as an example to illustrate how to automatically generate a Python API using PyLapi.\n",
    "\n",
    "The OpenAPI Specification (OAS) of the GitHub v3 REST API can be found [online](https://github.com/github/rest-api-description/tree/main/descriptions/api.github.com).\n",
    "For demonstration purposes, we have downloaded the OAS JSON document [here](./api.github.com.json)."
   ]
  },
  {
   "cell_type": "markdown",
   "metadata": {},
   "source": [
    "### Configuration"
   ]
  },
  {
   "cell_type": "markdown",
   "metadata": {},
   "source": [
    "Let us examine the content of [./gapi_config.py](./gapi_config.py)."
   ]
  },
  {
   "cell_type": "code",
   "execution_count": 1,
   "metadata": {},
   "outputs": [
    {
     "name": "stdout",
     "output_type": "stream",
     "text": [
      "# gAPI (GitHub API) PyLapi Generator Configuration\n",
      "\n",
      "api_class_name = \"gAPI\"\n",
      "output_py_name = \"./gapi.py\"\n",
      "oas_file_name = \"./api.github.com.json\"\n",
      "\n",
      "guide_attrs = {\n",
      "    \"summary\",\n",
      "    \"description\",\n",
      "    \"parameters\",\n",
      "    \"request_body\",\n",
      "    # \"ref\",\n",
      "}\n",
      "\n",
      "naming = {\n",
      "    \"class_name\": \"upperCamel($.path_segments[0]) + 'Resource'\",\n",
      "    \"resource_name\": \"snake($.path_segments[0])\",\n",
      "    \"class_path\": \"$.path_segments[0]\",\n",
      "    \"resource_path\": \"'/'.join($.path_segments[1:])\",\n",
      "    \"method_name\": \"lowerCamel($.operation_id)\",\n",
      "}\n",
      "\n",
      "# code_rewrite_file_name = \"./gapi_rewrite.py\"\n"
     ]
    }
   ],
   "source": [
    "!cat ./gapi_config.py"
   ]
  },
  {
   "cell_type": "markdown",
   "metadata": {},
   "source": [
    "In the above configuration example, we are generating an API class called `gAPI` and storing the Python script in [./gapi.py](./gapi.py).\n",
    "The OAS (OpenAPI Specification) is based on [./api.github.com.json](./api.github.com.json).\n",
    "\n",
    "We also include some OAS attributes as a user guide embedded in the Python script as inline comments.\n",
    "(You may uncomment \"ref\" to dereference the OAS attributes if you don't mind a lengthy script file.)"
   ]
  },
  {
   "cell_type": "markdown",
   "metadata": {},
   "source": [
    "For `naming`, let us use the \"Get repository content\" method to illustrate. It is the method at line 31692 in the [OAS file](./api.github.com.json), or you may search for the API path `/repos/{owner}/{repo}/contents/{path}` or the operationId `repos/get-content`.\n",
    "\n",
    "| Item          | Conversion                               | Value                          |\n",
    "| ------------- | ---------------------------------------- | ------------------------------ |\n",
    "| class_name    | upperCamel($.path_segments[0]) + 'Resource' | ReposResource                  |\n",
    "| resource_name | snake($.path_segments[0])                   | repos                          |\n",
    "| class_path    | $.path_segments[0]                          | repos                          |\n",
    "| resource_path | '/'.join($.path_segments[1:])               | {owner}/{repo}/contents/{path} |\n",
    "| method_name   | lowerCamel($.operation_id)               | reposGetContent                |\n",
    "\n",
    "Notes:\n",
    "1. The `$.` prefix indicates a method attribute, which we will discuss in later tutorials.\n",
    "2. The naming specifications are processed by `eval`, so if you want to specify a blank `''`, use `\"''\"`. For example, `\"resource_name\": \"''\"`."
   ]
  },
  {
   "cell_type": "markdown",
   "metadata": {},
   "source": [
    "### Generation"
   ]
  },
  {
   "cell_type": "code",
   "execution_count": 2,
   "metadata": {},
   "outputs": [
    {
     "name": "stdout",
     "output_type": "stream",
     "text": [
      "gAPI generated and saved in ./gapi.py\n"
     ]
    }
   ],
   "source": [
    "!../tools/pylapi_gen gapi_config.py"
   ]
  },
  {
   "cell_type": "markdown",
   "metadata": {},
   "source": [
    "Voilà! The `gAPI` Python API has been generated for you in seconds.\n",
    "You may now open [./gapi.py](./gapi.py) and search for `RepoResource` and `reposGetContent` to verify if the naming is right."
   ]
  },
  {
   "cell_type": "markdown",
   "metadata": {},
   "source": [
    "---\n",
    "In the next tutorial, we are going to show you [how to use a PyLapi API](2.%20How%20to%20use%20a%20PyLapi%20API.ipynb) using this newly generated `gAPI` as an example."
   ]
  },
  {
   "cell_type": "markdown",
   "metadata": {},
   "source": [
    "## End of page"
   ]
  }
 ],
 "metadata": {
  "kernelspec": {
   "display_name": "Python 3",
   "language": "python",
   "name": "python3"
  },
  "language_info": {
   "codemirror_mode": {
    "name": "ipython",
    "version": 3
   },
   "file_extension": ".py",
   "mimetype": "text/x-python",
   "name": "python",
   "nbconvert_exporter": "python",
   "pygments_lexer": "ipython3",
   "version": "3.9.17"
  },
  "orig_nbformat": 4
 },
 "nbformat": 4,
 "nbformat_minor": 2
}
