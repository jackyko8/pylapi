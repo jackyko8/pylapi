{
 "cells": [
  {
   "cell_type": "markdown",
   "metadata": {},
   "source": [
    "# 1. Getting Started with PyLapi.ipynb"
   ]
  },
  {
   "cell_type": "markdown",
   "metadata": {},
   "source": [
    "PyLapi, or Python Lightweight API, is a toolkit to automatically generate a custom SDK from the OpenAPI specification or to quickly build a tailored SDK to integrate any well-formed RESTful APIs.\n",
    "\n",
    "With PyLapi, you can\n",
    "\n",
    "- automatically generate an API SDK from OpenAPI 3.x documents (JSON or YAML) in seconds\n",
    "  - view the OpenAPI specifications of each API method as an inline usage guide embedded in the SDK\n",
    "  - customise the generated API SDK to your needs, including naming, security, and the level of usage guide\n",
    "  - study any public APIs in the PyLapi framework without the learning curve for individual APIs\n",
    "- manually build an API SDK for a new API from scratch (even without an OpenAPI document)\n",
    "  - encapsulate an API or integrate multiple APIs into a single SDK to provide a tailored service\n",
    "  - prototype a new API design using Python instead of raw API tools like `curl` or `postman`\n",
    "  - test a newly built API using popular Python testing frameworks, such as `unittest`\n"
   ]
  },
  {
   "cell_type": "markdown",
   "metadata": {},
   "source": [
    "## Prerequisite"
   ]
  },
  {
   "cell_type": "markdown",
   "metadata": {},
   "source": [
    "PyLapi comes with a generator `pylapi_gen.py` and a configuration template `pylapi_config_template.py`. They can be downloaded from the [PyLapi GitHub](https://github.com/jackyko8/pylapi.git) repository.\n",
    "\n",
    "The `PyLapi` package is required to run a PyLapi SDK, whether it is automatically generated or manually built.\n",
    "\n",
    "```base\n",
    "pip install pylapi\n",
    "```"
   ]
  },
  {
   "cell_type": "markdown",
   "metadata": {},
   "source": [
    "---\n",
    "In this series of tutorials, we are building PyLapi SDK examples based on some well-known and publicly accessible APIs, such as OpenAI, GitHub, and Asana, as an exercise to learn how to build PyLapi SDK.\n",
    "\n",
    "Asana is a popular project management SaaS platform. Its main data construct is a task, which can be in multiple projects and also listed in a section of each of those projects. A task is owned by a user and can be tagged.\n",
    "\n",
    "Before trying out the example SDK, we need to first authenticate with the Asana API using your Personal Access Token (PAT), which you can obtain by following [these instructions](https://asana.com/guide/help/api/api#gl-manage) after signing up with [asana.com](https://asana.com/). Please save your Asana PAT into `._asecret` under the current directory.\n",
    "\n",
    "IMPORTANT: If you choose to hardcode the PAT, please make sure you do not share the file with anyone or commit the file to any repositories."
   ]
  },
  {
   "cell_type": "markdown",
   "metadata": {},
   "source": [
    "## Auto-SDK from the OpenAPI document"
   ]
  },
  {
   "cell_type": "markdown",
   "metadata": {},
   "source": [
    "Let us create a sample PyLapi SDK called `aSDK` from the [Asana OpenAPI specification](https://raw.githubusercontent.com/Asana/openapi/master/defs/asana_oas.yaml).\n",
    "\n",
    "Steps:\n",
    "1. Create the target directory:\n",
    "\n",
    "   ```bash\n",
    "   mkdir <asdk_path>\n",
    "   cd <asdk_path>\n",
    "   ```\n",
    "\n",
    "2. Copy [pylapi_config_template.py](./pylapi_config_template.py) to `asdk_config.py`:\n",
    "\n",
    "   ```bash\n",
    "   cp <tools_path>/pylapi_config_template.py asdk_config.py\n",
    "   ```\n",
    "\n",
    "3. Customise `asdk_config.py`: to be discussed in the following section\n",
    "\n",
    "4. Run the PyLapi generator:\n",
    "\n",
    "   ```bash\n",
    "   python <tools_path>/pylapi_gen.py asdk_config.py\n",
    "   ```\n",
    "   \n",
    "Now the generated PyLapi SDK file can be found here: [asdk.py](./asdk.py)"
   ]
  },
  {
   "cell_type": "markdown",
   "metadata": {},
   "source": [
    "---\n",
    "This is the usage page of `pylapi_gen.py`:\n",
    "\n",
    "```bash\n",
    "$ python tools/pylapi_gen.py \n",
    "Usage: pylapi_gen.py <config.py> [<openapi.json/yaml]\n",
    "        -h --help           Print this help message\n",
    "        -d --debug          Print all the methods to be generated then stop\n",
    "        -o --output=<file>  Output the API SDK to <file> instead of stdout\n",
    "        -g --guide=<list>   Include some OpenAI attributes as comments; the list is comma-deliminted list with no spaces.\n",
    "                            Valid attributes include: summary,description,parameters,request_body,all,ref\n",
    "                            `all` means to include all items on the list\n",
    "                            `ref` means to dereference $ref cells in OpenAI attributes\n",
    "```"
   ]
  },
  {
   "cell_type": "markdown",
   "metadata": {},
   "source": [
    "### PyLapi SDK configuration"
   ]
  },
  {
   "cell_type": "markdown",
   "metadata": {},
   "source": [
    "As mentioned in Step 3 above, here you can find the customised [asdk_config.py](./asdk_config.py) file.\n",
    "\n",
    "Let us explain some configuration settings most often used."
   ]
  },
  {
   "cell_type": "markdown",
   "metadata": {},
   "source": [
    "Required: `oas_file_name` is the OpenAPI 3.x document in JSON or YAML format.\n",
    "A relative path, if specified, is relative to the config file.\n",
    "\n",
    "```python\n",
    "oas_file_name = \"./asana_oas.yaml\"\n",
    "```"
   ]
  },
  {
   "cell_type": "markdown",
   "metadata": {},
   "source": [
    "\n",
    "Optional: `output_py_name` is where the PyLapi SDK Python script will be saved.\n",
    "It can be overwritten by the command line argument `-o <file>` or `--output=<file>`.\n",
    "If neither the config file nor the command line provides an output file, the generator will print the generated Python script to `stdout`.\n",
    "A relative path, if specified, is relative to the config file.\n",
    "\n",
    "```python\n",
    "output_py_name = \"./asdk.py\"\n",
    "```"
   ]
  },
  {
   "cell_type": "markdown",
   "metadata": {},
   "source": [
    "Required: `api_auth_type` is the prefix of the Authentication header.\n",
    "For example, the setting below means: `Authentication: Bearer <personal_access_token>`.\n",
    "\n",
    "```python\n",
    "api_auth_type = \"Bearer\"\n",
    "```"
   ]
  },
  {
   "cell_type": "markdown",
   "metadata": {},
   "source": [
    "Optional: `api_class_name` is the generated API SDK Class Name. If it is not specified, the `$.info.title` OepnAPI attribute will be used.\n",
    "\n",
    "```python\n",
    "api_class_name = \"aSDK\"\n",
    "```"
   ]
  },
  {
   "cell_type": "markdown",
   "metadata": {},
   "source": [
    "Required: `naming` is dictionary of Python snippets to generate various names in the SDK."
   ]
  }
 ],
 "metadata": {
  "language_info": {
   "name": "python"
  },
  "orig_nbformat": 4
 },
 "nbformat": 4,
 "nbformat_minor": 2
}
