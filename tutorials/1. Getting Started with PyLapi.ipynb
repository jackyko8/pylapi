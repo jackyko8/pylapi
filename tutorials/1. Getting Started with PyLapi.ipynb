{
 "cells": [
  {
   "cell_type": "markdown",
   "metadata": {},
   "source": [
    "# 1. Getting Started with PyLapi"
   ]
  },
  {
   "cell_type": "markdown",
   "metadata": {},
   "source": [
    "Python Lightweight API (PyLapi) is a Python API builder. It takes only a few seconds to automatically generate a Python API from OpenAPI specifications or less than an hour for an experienced Python developer to create a custom Python API.\n",
    "\n",
    "You can drive PyLapi in an [automatic](./2.%20How%20to%20use%20a%20PyLapi%20API.ipynb), [semiautomatic](./5.%20PyLapi%20Generator%20Automation.ipynb), or [manual](./3.%20A%20ChatGPT%20Conversation%20with%20PyLapi.ipynb) way."
   ]
  },
  {
   "cell_type": "markdown",
   "metadata": {},
   "source": [
    "***Automatic***:\n",
    "\n",
    "The auto-generated Python API contains fully functional resource classes with API methods embedded with OpenAPI specifications as user guide inline comments, so you don't need to read the lengthy OpenAPI Specification to study or use the API.\n",
    "\n",
    "For more details, please see the [Automatic API Generation](#automatic-api-generation) section and this [tutorial](./2.%20How%20to%20use%20a%20PyLapi%20API.ipynb) on how to use the generated API."
   ]
  },
  {
   "cell_type": "markdown",
   "metadata": {},
   "source": [
    "***Semiautomatic***:\n",
    "\n",
    "You can also manually \"rewrite\" some of the generated classes and methods in a separate code file to, for example, specify custom parameters, pre-process the request, or post-process the response. The PyLapi generator will merge your code into the generated Python API automatically.\n",
    "\n",
    "PyLapi's code-rewrite feature allows you to specify different API URL endpoints for individual resources, effectively combining multiple API backend services into a single frontend API. All parameters and the request body are dynamically mapped based on the API method route, with the option to rewrite them if you so choose.\n",
    "\n",
    "More details can be found in this [tutorial](./5.%20PyLapi%20Generator%20Automation.ipynb)."
   ]
  },
  {
   "cell_type": "markdown",
   "metadata": {},
   "source": [
    "***Manual***:\n",
    "\n",
    "When OpenAPI Specifications are not available or you want to create a Python API your own way, you can inherit your root API class from PyLapi, which does all the heavy lifting for you, so your code would mostly be a `pass`.\n",
    "\n",
    "If you want to manipulate the API requests and responses, only minimal coding is required. In the tutorial [A ChatGPT Conversation with PyLapi](./3.%20A%20ChatGPT%20Conversation%20with%20PyLapi.ipynb), a fully functional Conversation resource is completed in 38 lines, allowing you to do cool things like this:\n",
    "\n",
    "```python\n",
    "conversation.ask(\"Where is the Sydney Opera House?\")\n",
    "print(conversation.data.answers[0])\n",
    "# Output:\n",
    "# The Sydney Opera House is located in Sydney, Australia. Specifically, it is situated on Bennelong Point in the Sydney Harbour, close to the Sydney Harbour Bridge.\n",
    "```"
   ]
  },
  {
   "cell_type": "markdown",
   "metadata": {},
   "source": [
    "---\n",
    "Here is what a PyLapi-supported OpenAI (ChatGPT) API would look like:\n",
    "<br/><br/>\n",
    "\n",
    "```python\n",
    "from pylapi import PyLapi\n",
    "\n",
    "class oAPI(PyLapi):\n",
    "    def __init__(self, *args, **kwargs) -> None:\n",
    "        super().__init__(*args, **kwargs)\n",
    "        self.api_url = \"https://api.openai.com/v1\"\n",
    "\n",
    "@oAPI.resource_class(resource_name=\"conversation\")\n",
    "class Conversation(oAPI):\n",
    "    def __init__(self, *args, **kwargs) -> None:\n",
    "        super().__init__(*args, **kwargs)\n",
    "        self.message_bank = []\n",
    "\n",
    "    @oAPI.resource_method(method_path=\"chat/completions\", http_method=\"POST\", load=\"$\")\n",
    "    def ask(self, question: str):\n",
    "\n",
    "        @oAPI.callback\n",
    "        def request(self, role=\"user\", model=\"gpt-3.5-turbo\", **kwargs):\n",
    "            self.message_bank.append({\n",
    "                \"role\": role,\n",
    "                \"content\": kwargs[\"question\"],\n",
    "            })\n",
    "            self.raw_request[\"json\"] = {\n",
    "                \"model\": model,\n",
    "                \"messages\": self.message_bank,\n",
    "                \"temperature\": 0.7\n",
    "            }\n",
    "            self.raw_request[\"params\"] = {}\n",
    "\n",
    "        @oAPI.callback\n",
    "        def response(self, **kwargs):\n",
    "            if self.response_ok() and \"choices\" in self.response_data:\n",
    "                choices = self.response_data[\"choices\"]\n",
    "                self.message_bank.append(choices[0][\"message\"])\n",
    "                answers = [_[\"message\"][\"content\"] for _ in choices]\n",
    "                self.response_data.update({\n",
    "                    \"answers\": answers,\n",
    "                })\n",
    "```\n",
    "\n",
    "<br/><br/>\n",
    "The `oAPI` root API class inherits the decorators `@oAPI.resource_class` and `@oAPI.resource_methods` from `PyLapi`, which prepares the API parameters and the request body in the API request, sends the request to the API URL endpoint, processes the response, and handles the resource data for you."
   ]
  },
  {
   "cell_type": "markdown",
   "metadata": {},
   "source": [
    "---\n",
    "Using a PyLapi-supported Python API is easy and natural.\n",
    "You may use keyword arguments, positional arguments, or implicit arguments from the `data` attribute.\n",
    "\n",
    "For example,\n",
    "<br/><br/>\n",
    "\n",
    "```python\n",
    "oAPI.auth(<API_KEY>)\n",
    "conversation = oAPI.resource(\"conversation\")\n",
    "conversation.ask(\"Where is the Sydney Opera House?\")\n",
    "print(conversation.data.answers[0])\n",
    "```"
   ]
  },
  {
   "cell_type": "markdown",
   "metadata": {},
   "source": [
    "## Install PyLapi"
   ]
  },
  {
   "cell_type": "markdown",
   "metadata": {},
   "source": [
    "Please follow these instructions to install PyLapi and its generator (replacing all environment variables with your specific values)."
   ]
  },
  {
   "cell_type": "markdown",
   "metadata": {},
   "source": [
    "To install the PyLapi class:\n",
    "```bash\n",
    "pip install pylapi\n",
    "```"
   ]
  },
  {
   "cell_type": "markdown",
   "metadata": {},
   "source": [
    "To install the PyLapi generator:\n",
    "\n",
    "```bash\n",
    "cd $PATH_TO_DEV_ENV\n",
    "git clone https://github.com/jackyko8/pylapi.git\n",
    "cd pylapi\n",
    "cp tools/pylapi_gen* $PATH_TO_BIN\n",
    "```"
   ]
  },
  {
   "cell_type": "markdown",
   "metadata": {},
   "source": [
    "## Automatic API Generation"
   ]
  },
  {
   "cell_type": "markdown",
   "metadata": {},
   "source": [
    "To generate a PyLapi supported Python API:\n",
    "\n",
    "```bash\n",
    "cd $PATH_TO_MYAPI\n",
    "cp $PATH_TO_DEV_ENV/pylapi/tools/pylapi_config_template.py myapi_config.py\n",
    "# Configure myapi_config.py\n",
    "pylapi_gen myapi_config.py\n",
    "# Output\n",
    "# MyAPI generated and saved in ./myapi.py\n",
    "```"
   ]
  },
  {
   "cell_type": "markdown",
   "metadata": {},
   "source": [
    "In this tutorial, we use the [GitHub REST API](https://docs.github.com/en/rest) as an example to illustrate how to automatically generate a Python API using PyLapi.\n",
    "\n",
    "The OpenAPI Specification (OAS) of the GitHub v3 REST API can be found [online](https://github.com/github/rest-api-description/tree/main/descriptions/api.github.com).\n",
    "For demonstration purposes, we have downloaded the OAS JSON document [here](./api.github.com.json)."
   ]
  },
  {
   "cell_type": "markdown",
   "metadata": {},
   "source": [
    "### Configuration"
   ]
  },
  {
   "cell_type": "markdown",
   "metadata": {},
   "source": [
    "We have prepared a PyLapi configuration file for the GitHub REST API in [./gapi_config.py](./gapi_config.py)."
   ]
  },
  {
   "cell_type": "code",
   "execution_count": 1,
   "metadata": {},
   "outputs": [
    {
     "name": "stdout",
     "output_type": "stream",
     "text": [
      "# gAPI (GitHub API) PyLapi Generator Configuration\n",
      "\n",
      "api_class_name = \"gAPI\"\n",
      "output_py_name = \"./gapi.py\"\n",
      "oas_file_name = \"./api.github.com.json\"\n",
      "\n",
      "guide_attrs = {\n",
      "    \"summary\",\n",
      "    \"description\",\n",
      "    \"parameters\",\n",
      "    \"request_body\",\n",
      "    # \"ref\",\n",
      "}\n",
      "\n",
      "naming = {\n",
      "    \"class_name\": \"upperCamel($.path_segments[0]) + 'Resource'\",\n",
      "    \"resource_name\": \"snake($.path_segments[0])\",\n",
      "    \"class_path\": \"$.path_segments[0]\",\n",
      "    \"resource_path\": \"'/'.join($.path_segments[1:])\",\n",
      "    \"method_name\": \"lowerCamel($.operation_id)\",\n",
      "}\n"
     ]
    }
   ],
   "source": [
    "!cat ./gapi_config.py"
   ]
  },
  {
   "cell_type": "markdown",
   "metadata": {},
   "source": [
    "In the above configuration example, we are generating an API class called `gAPI` and storing the Python script in [./gapi.py](./gapi.py).\n",
    "The OAS (OpenAPI Specification) is read from [./api.github.com.json](./api.github.com.json).\n",
    "\n",
    "We also include some OAS attributes as a user guide embedded in the Python script as inline comments."
   ]
  },
  {
   "cell_type": "markdown",
   "metadata": {},
   "source": [
    "For `naming`, let us use the \"Get repository content\" method to illustrate. It is the method at line 31692 in the [OAS file](./api.github.com.json), or you may search for the API path `/repos/{owner}/{repo}/contents/{path}` or the operationId `repos/get-content`.\n",
    "\n",
    "| Item          | Conversion                                  | Value                          |\n",
    "| ------------- | ------------------------------------------- | ------------------------------ |\n",
    "| class_name    | upperCamel($.path_segments[0]) + 'Resource' | ReposResource                  |\n",
    "| resource_name | snake($.path_segments[0])                   | repos                          |\n",
    "| class_path    | $.path_segments[0]                          | repos                          |\n",
    "| resource_path | '/'.join($.path_segments[1:])               | {owner}/{repo}/contents/{path} |\n",
    "| method_name   | lowerCamel($.operation_id)                  | reposGetContent                |\n",
    "\n",
    "Notes:\n",
    "1. The `$.` prefix indicates a method attribute, which we will discuss in later tutorials.\n",
    "2. The naming specifications are processed by `eval`, so if you want to specify an empty string, use `\"''\"`. For example, `\"resource_name\": \"''\"`."
   ]
  },
  {
   "cell_type": "markdown",
   "metadata": {},
   "source": [
    "### Generation"
   ]
  },
  {
   "cell_type": "markdown",
   "metadata": {},
   "source": [
    "You may now run `pylapi_gen` to generate the `gAPI` script based on the configuration in `./gapi.py`:\n",
    "\n",
    "```bash\n",
    "pylapi_gen gapi_config.py\n",
    "```\n",
    "\n",
    "(The `../tools/` relative path is not required if you already have `pylapi_gen` in your execution path.)"
   ]
  },
  {
   "cell_type": "code",
   "execution_count": 2,
   "metadata": {},
   "outputs": [
    {
     "name": "stdout",
     "output_type": "stream",
     "text": [
      "gAPI generated and saved in ./gapi.py\n"
     ]
    }
   ],
   "source": [
    "!../tools/pylapi_gen gapi_config.py"
   ]
  },
  {
   "cell_type": "markdown",
   "metadata": {},
   "source": [
    "Voilà! The `gAPI` Python API has been generated for you in seconds.\n",
    "You may now open [./gapi.py](./gapi.py) and search for `ReposResource` and `reposGetContent` to verify if the naming is right."
   ]
  },
  {
   "cell_type": "markdown",
   "metadata": {},
   "source": [
    "---\n",
    "In the next tutorial, we are going to show you [how to use a PyLapi API](2.%20How%20to%20use%20a%20PyLapi%20API.ipynb) using this newly generated `gAPI` as an example."
   ]
  },
  {
   "cell_type": "markdown",
   "metadata": {},
   "source": [
    "## End of page"
   ]
  }
 ],
 "metadata": {
  "kernelspec": {
   "display_name": "Python 3",
   "language": "python",
   "name": "python3"
  },
  "language_info": {
   "codemirror_mode": {
    "name": "ipython",
    "version": 3
   },
   "file_extension": ".py",
   "mimetype": "text/x-python",
   "name": "python",
   "nbconvert_exporter": "python",
   "pygments_lexer": "ipython3",
   "version": "3.9.17"
  },
  "orig_nbformat": 4
 },
 "nbformat": 4,
 "nbformat_minor": 2
}
