{
 "cells": [
  {
   "cell_type": "markdown",
   "metadata": {},
   "source": [
    "# 2. How to use a PyLapi API"
   ]
  },
  {
   "cell_type": "markdown",
   "metadata": {},
   "source": [
    "In our [last tutorial](./1.%20Getting%20Started%20with%20PyLapi.ipynb), we have generated a PyLapi-supported API called `gAPI` from the [OpenAPI Specification](./api.github.com.json) of the [GitHub REST API](https://docs.github.com/en/rest).\n",
    "\n",
    "In this tutorial, we will show you how to use the newly generated Python API, `gAPI`. If you have not generated the [./gapi.py](./gapi.py) script, please run the [last tutorial](1.%20Getting%20Started%20with%20PyLapi.ipynb) first.\n",
    "\n",
    "Let us try the `reposGetContent` method to load some content details from a GitHub repository."
   ]
  },
  {
   "cell_type": "markdown",
   "metadata": {},
   "source": [
    "---\n",
    "First, you import the newly generated Python API, `gAPI`, and authenticate the API with your GitHub personal access token (PAT).\n",
    "If you do not have a GitHub PAT, please sign up at [github.com](https://github.com/), create a [PAT](https://github.com/settings/tokens), then save it to `._gsecret`.\n",
    "\n",
    "IMPORTANT: Please store your GitHub personal access token securely without exposing it to any printouts, log messages, or repositories."
   ]
  },
  {
   "cell_type": "code",
   "execution_count": 1,
   "metadata": {},
   "outputs": [],
   "source": [
    "from gapi import gAPI\n",
    "\n",
    "# Authenticate with your GitHub personal access token previously saved in `._gsecret`\n",
    "gAPI.auth(open(\"./._gsecret\", \"r\").readlines()[0].rstrip())"
   ]
  },
  {
   "cell_type": "markdown",
   "metadata": {},
   "source": [
    "---\n",
    "Then, you instantiate the `repo` resource object using its resource name `repos` (as specified in the `naming` configuration).\n",
    "The API `/repos/{owner}/{repo}/contents/{path}` requires three arguments, which are provided as keyword arguments in this example.\n",
    "\n",
    "In the [./gapi.py](./gapi.py) script file, the `reposGetContent()` method (line 16227) looks like this:\n",
    "\n",
    "```python\n",
    "    @gAPI.resource_method(\"{owner}/{repo}/contents/{path}\", http_method=\"GET\")\n",
    "    def reposGetContent(self): pass\n",
    "    # To call: gAPI.resource(\"repos\").reposGetContent(owner=..., repo=..., path=..., ...)\n",
    "    # Request: GET https://api.github.com/repos/{owner}/{repo}/contents/{path}\n",
    "```\n",
    "\n",
    "Let us retrieve the content specification of the `README.md` file of the [PyLapi GitHub repository](https://github.com/jackyko8/pylapi/blob/main/README.md). We load the API response into the `data` attribute of the `repo` resource object."
   ]
  },
  {
   "cell_type": "code",
   "execution_count": 2,
   "metadata": {},
   "outputs": [
    {
     "name": "stdout",
     "output_type": "stream",
     "text": [
      "{\n",
      "  \"name\": \"README.md\",\n",
      "  \"path\": \"README.md\",\n",
      "  \"sha\": \"c0987cc7d99b73568206494462824b0980c7806e\",\n",
      "  \"size\": 41,\n",
      "  \"url\": \"https://api.github.com/repos/jackyko8/pylapi/contents/README.md?ref=main\",\n",
      "  \"html_url\": \"https://github.com/jackyko8/pylapi/blob/main/README.md\",\n",
      "  \"git_url\": \"https://api.github.com/repos/jackyko8/pylapi/git/blobs/c0987cc7d99b73568206494462824b0980c7806e\",\n",
      "  \"download_url\": \"https://raw.githubusercontent.com/jackyko8/pylapi/main/README.md\",\n",
      "  \"type\": \"file\",\n",
      "  \"content\": \"IyBweWxhcGkKUHlMYXBpIC0gUHl0aG9uIExpZ2h0d2VpZ2h0IEFQSQo=\\n\",\n",
      "  \"encoding\": \"base64\",\n",
      "  \"_links\": {\n",
      "    \"self\": \"https://api.github.com/repos/jackyko8/pylapi/contents/README.md?ref=main\",\n",
      "    \"git\": \"https://api.github.com/repos/jackyko8/pylapi/git/blobs/c0987cc7d99b73568206494462824b0980c7806e\",\n",
      "    \"html\": \"https://github.com/jackyko8/pylapi/blob/main/README.md\"\n",
      "  }\n",
      "}\n"
     ]
    }
   ],
   "source": [
    "repo = gAPI.resource(\"repos\")\n",
    "repo.data = repo.reposGetContent(owner=\"jackyko8\", repo=\"pylapi\", path=\"README.md\")\n",
    "print(repo)"
   ]
  },
  {
   "cell_type": "markdown",
   "metadata": {},
   "source": [
    "---\n",
    "Another way to specify API parameters is using positional arguments.\n",
    "For example, the resource path of the `reposGetContent` method is ``/repos/{owner}/{repo}/contents/{path}``.\n",
    "The method will take the first argument as `owner`, the second as `repo`, and the third `path`."
   ]
  },
  {
   "cell_type": "code",
   "execution_count": 3,
   "metadata": {},
   "outputs": [
    {
     "name": "stdout",
     "output_type": "stream",
     "text": [
      "{\n",
      "  \"name\": \"README.md\",\n",
      "  \"path\": \"README.md\",\n",
      "  \"sha\": \"c0987cc7d99b73568206494462824b0980c7806e\",\n",
      "  \"size\": 41,\n",
      "  \"url\": \"https://api.github.com/repos/jackyko8/pylapi/contents/README.md?ref=main\",\n",
      "  \"html_url\": \"https://github.com/jackyko8/pylapi/blob/main/README.md\",\n",
      "  \"git_url\": \"https://api.github.com/repos/jackyko8/pylapi/git/blobs/c0987cc7d99b73568206494462824b0980c7806e\",\n",
      "  \"download_url\": \"https://raw.githubusercontent.com/jackyko8/pylapi/main/README.md\",\n",
      "  \"type\": \"file\",\n",
      "  \"content\": \"IyBweWxhcGkKUHlMYXBpIC0gUHl0aG9uIExpZ2h0d2VpZ2h0IEFQSQo=\\n\",\n",
      "  \"encoding\": \"base64\",\n",
      "  \"_links\": {\n",
      "    \"self\": \"https://api.github.com/repos/jackyko8/pylapi/contents/README.md?ref=main\",\n",
      "    \"git\": \"https://api.github.com/repos/jackyko8/pylapi/git/blobs/c0987cc7d99b73568206494462824b0980c7806e\",\n",
      "    \"html\": \"https://github.com/jackyko8/pylapi/blob/main/README.md\"\n",
      "  }\n",
      "}\n"
     ]
    }
   ],
   "source": [
    "repo = gAPI.resource(\"repos\")\n",
    "repo.data = repo.reposGetContent(\"jackyko8\", \"pylapi\", \"README.md\")\n",
    "print(repo)"
   ]
  },
  {
   "cell_type": "markdown",
   "metadata": {},
   "source": [
    "---\n",
    "Alternatively, you may use `data` attributes as implicit arguments."
   ]
  },
  {
   "cell_type": "code",
   "execution_count": 4,
   "metadata": {},
   "outputs": [
    {
     "name": "stdout",
     "output_type": "stream",
     "text": [
      "{\n",
      "  \"name\": \"README.md\",\n",
      "  \"path\": \"README.md\",\n",
      "  \"sha\": \"c0987cc7d99b73568206494462824b0980c7806e\",\n",
      "  \"size\": 41,\n",
      "  \"url\": \"https://api.github.com/repos/jackyko8/pylapi/contents/README.md?ref=main\",\n",
      "  \"html_url\": \"https://github.com/jackyko8/pylapi/blob/main/README.md\",\n",
      "  \"git_url\": \"https://api.github.com/repos/jackyko8/pylapi/git/blobs/c0987cc7d99b73568206494462824b0980c7806e\",\n",
      "  \"download_url\": \"https://raw.githubusercontent.com/jackyko8/pylapi/main/README.md\",\n",
      "  \"type\": \"file\",\n",
      "  \"content\": \"IyBweWxhcGkKUHlMYXBpIC0gUHl0aG9uIExpZ2h0d2VpZ2h0IEFQSQo=\\n\",\n",
      "  \"encoding\": \"base64\",\n",
      "  \"_links\": {\n",
      "    \"self\": \"https://api.github.com/repos/jackyko8/pylapi/contents/README.md?ref=main\",\n",
      "    \"git\": \"https://api.github.com/repos/jackyko8/pylapi/git/blobs/c0987cc7d99b73568206494462824b0980c7806e\",\n",
      "    \"html\": \"https://github.com/jackyko8/pylapi/blob/main/README.md\"\n",
      "  }\n",
      "}\n"
     ]
    }
   ],
   "source": [
    "repo = gAPI.resource(\"repos\")\n",
    "repo.data.owner = \"jackyko8\"\n",
    "repo.data.repo = \"pylapi\"\n",
    "repo.data.path = \"README.md\"\n",
    "repo.data = repo.reposGetContent()\n",
    "print(repo)"
   ]
  },
  {
   "cell_type": "markdown",
   "metadata": {},
   "source": [
    "---\n",
    "As you see in the above snippets, `PyLapi` makes use of the resource data to fulfil some important functions, such as implicit argument passing and other powerful features; more about \"resource data\" in the [Resource Data](./6.%20Resource%20Data.ipynb) tutorial."
   ]
  },
  {
   "cell_type": "markdown",
   "metadata": {},
   "source": [
    "---\n",
    "To make `PyLapi` more \"natural\" and programmer-friendly, resource data supports attribute and path notations, using the `AttrDict` and `PathDict` classes in the `PyLapi` package."
   ]
  },
  {
   "cell_type": "code",
   "execution_count": 5,
   "metadata": {},
   "outputs": [
    {
     "name": "stdout",
     "output_type": "stream",
     "text": [
      "Attribute notation:\n",
      "https://raw.githubusercontent.com/jackyko8/pylapi/main/README.md\n",
      "https://github.com/jackyko8/pylapi/blob/main/README.md\n",
      "Path notation:\n",
      "https://raw.githubusercontent.com/jackyko8/pylapi/main/README.md\n",
      "https://github.com/jackyko8/pylapi/blob/main/README.md\n"
     ]
    }
   ],
   "source": [
    "# Resource data support attribute notation\n",
    "print(\"Attribute notation:\")\n",
    "print(repo.data.download_url)\n",
    "print(repo.data._links.html)\n",
    "print(\"Path notation:\")\n",
    "print(repo[\"$.download_url\"])\n",
    "print(repo[\"$._links.html\"])"
   ]
  },
  {
   "cell_type": "markdown",
   "metadata": {},
   "source": [
    "---\n",
    "In the next tutorial, we are going to hand-craft an [OpenAI ChatGPT conversation resource](./3.%20A%20ChatGPT%20Conversation%20with%20PyLapi.ipynb) to illustrate how to use PyLapi's callback feature."
   ]
  },
  {
   "cell_type": "markdown",
   "metadata": {},
   "source": [
    "## End of page"
   ]
  }
 ],
 "metadata": {
  "kernelspec": {
   "display_name": "Python 3",
   "language": "python",
   "name": "python3"
  },
  "language_info": {
   "codemirror_mode": {
    "name": "ipython",
    "version": 3
   },
   "file_extension": ".py",
   "mimetype": "text/x-python",
   "name": "python",
   "nbconvert_exporter": "python",
   "pygments_lexer": "ipython3",
   "version": "3.9.17"
  },
  "orig_nbformat": 4
 },
 "nbformat": 4,
 "nbformat_minor": 2
}
