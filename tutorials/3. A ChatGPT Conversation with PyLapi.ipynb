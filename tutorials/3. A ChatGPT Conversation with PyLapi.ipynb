{
 "cells": [
  {
   "cell_type": "markdown",
   "metadata": {},
   "source": [
    "# 3. A ChatGPT Conversation with PyLapi"
   ]
  },
  {
   "cell_type": "markdown",
   "metadata": {},
   "source": [
    "There are times when you want to have more control over API requests and responses, keep track of the API call sequence, or simply monitor the API interactions.\n",
    "These tasks can be tedious and time-consuming. Your code may become more complex and therefore less readable.\n",
    "\n",
    "To give an example, the OpenAI RESTful API is stateless, and each ChatGPT interaction is independent.\n",
    "If you want to keep the conversation flowing, you need to keep track of the context.\n",
    "\n",
    "For instance, you ask ChatGPT, \"Where is the Sydney Opera House?\" After receiving the answer, you ask a follow-up question: \"How do I get *there*?\"\n",
    "To allow ChatGPT to work out that \"there\" means \"the Sydney Opera House\", you need to include the entire conversation in each API call."
   ]
  },
  {
   "cell_type": "markdown",
   "metadata": {},
   "source": [
    "## Keep the chat rolling"
   ]
  },
  {
   "cell_type": "markdown",
   "metadata": {},
   "source": [
    "The `PyLapi` resource class below maintains a ChatGPT conversation flow by saving all questions and answers in the `Conversation` resource object, so whenever you call its `ask()` method, the entire conversation is sent to the OpenAI API, so its response will be context-aware.\n",
    "\n",
    "The algorithm is handcrafted in just 39 lines, including space lines, without any automation or input from the OpenAPI specification, thanks to the rich features inherited from `PyLapi`."
   ]
  },
  {
   "cell_type": "code",
   "execution_count": 1,
   "metadata": {},
   "outputs": [],
   "source": [
    "from pylapi import PyLapi\n",
    "\n",
    "class oAPI(PyLapi):\n",
    "    def __init__(self, *args, **kwargs) -> None:\n",
    "        super().__init__(*args, **kwargs)\n",
    "        self.api_url = \"https://api.openai.com/v1\"\n",
    "\n",
    "@oAPI.resource_class(resource_name=\"conversation\")\n",
    "class Conversation(oAPI):\n",
    "    def __init__(self, *args, **kwargs) -> None:\n",
    "        super().__init__(*args, **kwargs)\n",
    "        self.message_bank = []\n",
    "\n",
    "    @oAPI.resource_method(method_path=\"chat/completions\", http_method=\"POST\", load=\"$\")\n",
    "    def ask(self, question: str):\n",
    "\n",
    "        @oAPI.callback\n",
    "        def request(self, role=\"user\", model=\"gpt-3.5-turbo\", **kwargs):\n",
    "            self.message_bank.append({\n",
    "                \"role\": role,\n",
    "                \"content\": kwargs[\"question\"],\n",
    "            })\n",
    "            self.raw_request[\"json\"] = {\n",
    "                \"model\": model,\n",
    "                \"messages\": self.message_bank,\n",
    "                \"temperature\": 0.7\n",
    "            }\n",
    "            self.raw_request[\"params\"] = {}\n",
    "\n",
    "        @oAPI.callback\n",
    "        def response(self, **kwargs):\n",
    "            if self.response_ok() and \"choices\" in self.response_data:\n",
    "                choices = self.response_data[\"choices\"]\n",
    "                self.message_bank.append(choices[0][\"message\"])\n",
    "                answers = [_[\"message\"][\"content\"] for _ in choices]\n",
    "                self.response_data.update({\n",
    "                    \"answers\": answers,\n",
    "                })"
   ]
  },
  {
   "cell_type": "markdown",
   "metadata": {},
   "source": [
    "The top-level API class `oAPI` inherits from `PyLapi` and sets the API URL `self.api_url`. The `Conversation` resource class inherits from `oAPI` and is decorated by `@oAPI.resource_class` with the resource name set to `\"conversation\"`.\n",
    "The `__init__()` method creates an empty message bank.\n",
    "\n",
    "The `@oAPI.resource_method` decorator makes the `ask()` method `POST` to the API path `/chat/completions`, and `load`s the entire response (as denoted by `$`) into the resource `data` attribute.\n",
    "\n",
    "There are two `callback` methods:\n",
    "- `request()` adds the user's question to the message bank before PyLapi sends it to ChatGPT.\n",
    "- `response()` adds ChatGPT's answers to the message bank and also creates the \"answers\" data attribute."
   ]
  },
  {
   "cell_type": "markdown",
   "metadata": {},
   "source": [
    "---\n",
    "Before trying it out, you need to [sign up with OpenAI](https://platform.openai.com/signup), obtain your [API key](https://platform.openai.com/account/api-keys), and save it to `._osecret` under the current directory for authenticating the API.\n",
    "\n",
    "IMPORTANT: Please store your OpenAI API key securely without exposing it to any printouts, log messages, or repositories."
   ]
  },
  {
   "cell_type": "code",
   "execution_count": 2,
   "metadata": {},
   "outputs": [],
   "source": [
    "# Authenticate with your OpanAI API key previously saved in `._osecret`\n",
    "oAPI.auth(open(\"._osecret\", \"r\").readlines()[0].strip())\n",
    "\n",
    "# Instantiate the conversation resource object\n",
    "conversation = oAPI.resource(\"conversation\")"
   ]
  },
  {
   "cell_type": "markdown",
   "metadata": {},
   "source": [
    "## Let's talk!"
   ]
  },
  {
   "cell_type": "markdown",
   "metadata": {},
   "source": [
    "Now you may ask your first question. Feel free to change the question to one that interests you."
   ]
  },
  {
   "cell_type": "code",
   "execution_count": 3,
   "metadata": {},
   "outputs": [
    {
     "name": "stdout",
     "output_type": "stream",
     "text": [
      "The Sydney Opera House is located in Sydney, Australia. Specifically, it is situated on Bennelong Point in the Sydney Harbour, close to the Sydney Harbour Bridge.\n"
     ]
    }
   ],
   "source": [
    "conversation.ask(\"Where is the Sydney Opera House?\")\n",
    "print(conversation.data.answers[0])"
   ]
  },
  {
   "cell_type": "markdown",
   "metadata": {},
   "source": [
    "When you ask a follow-up question, the `conversation` resource object will send the entire conversation from the beginning to ChatGPT so it is aware of the context."
   ]
  },
  {
   "cell_type": "code",
   "execution_count": 4,
   "metadata": {},
   "outputs": [
    {
     "name": "stdout",
     "output_type": "stream",
     "text": [
      "There are several ways to get to the Sydney Opera House:\n",
      "\n",
      "1. By Train: The closest train station to the Opera House is Circular Quay Station. From there, it's just a short walk to the Opera House.\n",
      "\n",
      "2. By Ferry: Circular Quay is also a major ferry terminal, and many ferries stop there. You can take a ferry from various locations around Sydney, including Darling Harbour, Manly, or Watsons Bay, and disembark at Circular Quay.\n",
      "\n",
      "3. By Bus: There are several bus routes that pass by or stop near the Opera House. You can check the local bus network for the best route to reach the Opera House from your location.\n",
      "\n",
      "4. By Car: There is limited parking available at the Opera House, and it can be quite expensive. If you choose to drive, you can follow signs to the Sydney CBD (Central Business District) and then look for signs to the Opera House.\n",
      "\n",
      "5. By Foot: If you are staying in the city center or near Circular Quay, you can easily walk to the Opera House. It's a scenic and enjoyable stroll along the waterfront.\n",
      "\n",
      "It's recommended to check the public transportation schedules and plan your trip in advance to ensure you arrive at the Opera House on time.\n"
     ]
    }
   ],
   "source": [
    "conversation.ask(\"How to get there?\")\n",
    "print(conversation.data.answers[0])"
   ]
  },
  {
   "cell_type": "markdown",
   "metadata": {},
   "source": [
    "You may also give instructions to ChatGPT using the \"system\" role and alternatively specify the language model to use in the response."
   ]
  },
  {
   "cell_type": "code",
   "execution_count": 5,
   "metadata": {},
   "outputs": [
    {
     "name": "stdout",
     "output_type": "stream",
     "text": [
      "To reach the Sydney Opera House, ye could use a variety of means:\n",
      "\n",
      "1. By Floo Powder: Tis not available in the Muggle world, but if ye possess the magical ability, ye can use Floo Powder to transport yerself directly to the Opera House. Simply step into a fireplace, state \"Sydney Opera House\" clearly, and throw the powder into the flames. Be prepared for a dizzying journey!\n",
      "\n",
      "2. By Broomstick: If ye're an accomplished wizard or witch with a trusty broomstick, soar through the skies like a true Quidditch player. Set a course for Sydney and navigate yer way to the Opera House. Remember to follow all broomstick safety guidelines and be mindful of Muggle airspace regulations.\n",
      "\n",
      "3. By Portkey: Seek out a Portkey, a magically enchanted object that transports ye to a specific location when touched. Locate a Portkey that leads to the Sydney Opera House, grasp it tightly, and prepare for a swift and instantaneous journey.\n",
      "\n",
      "4. By Apparition: For witches and wizards of age, Apparition is a handy spell for teleportation. Concentrate on the Opera House in Sydney, visualize the destination clearly in yer mind, and with a sharp crack, Apparate directly to the desired location.\n",
      "\n",
      "Alas, these methods are purely fictional in the Muggle world. To reach the Sydney Opera House, it is advised to use conventional means such as train, ferry, bus, or even by foot. Safe travels, my Muggle friend!\n"
     ]
    }
   ],
   "source": [
    "conversation.ask(\"Speak like Harry Potter\", role=\"system\", model=\"gpt-3.5-turbo-16k\")\n",
    "print(conversation.data.answers[0])"
   ]
  },
  {
   "cell_type": "markdown",
   "metadata": {},
   "source": [
    "You may print the message bank at any time to review the conversation so far."
   ]
  },
  {
   "cell_type": "code",
   "execution_count": 6,
   "metadata": {},
   "outputs": [
    {
     "name": "stdout",
     "output_type": "stream",
     "text": [
      "[\n",
      "  {\n",
      "    \"role\": \"user\",\n",
      "    \"content\": \"Where is the Sydney Opera House?\"\n",
      "  },\n",
      "  {\n",
      "    \"role\": \"assistant\",\n",
      "    \"content\": \"The Sydney Opera House is located in Sydney, Australia. Specifically, it is situated on Bennelong Point in the Sydney Harbour, close to the Sydney Harbour Bridge.\"\n",
      "  },\n",
      "  {\n",
      "    \"role\": \"user\",\n",
      "    \"content\": \"How to get there?\"\n",
      "  },\n",
      "  {\n",
      "    \"role\": \"assistant\",\n",
      "    \"content\": \"There are several ways to get to the Sydney Opera House:\\n\\n1. By Train: The closest train station to the Opera House is Circular Quay Station. From there, it's just a short walk to the Opera House.\\n\\n2. By Ferry: Circular Quay is also a major ferry terminal, and many ferries stop there. You can take a ferry from various locations around Sydney, including Darling Harbour, Manly, or Watsons Bay, and disembark at Circular Quay.\\n\\n3. By Bus: There are several bus routes that pass by or stop near the Opera House. You can check the local bus network for the best route to reach the Opera House from your location.\\n\\n4. By Car: There is limited parking available at the Opera House, and it can be quite expensive. If you choose to drive, you can follow signs to the Sydney CBD (Central Business District) and then look for signs to the Opera House.\\n\\n5. By Foot: If you are staying in the city center or near Circular Quay, you can easily walk to the Opera House. It's a scenic and enjoyable stroll along the waterfront.\\n\\nIt's recommended to check the public transportation schedules and plan your trip in advance to ensure you arrive at the Opera House on time.\"\n",
      "  },\n",
      "  {\n",
      "    \"role\": \"system\",\n",
      "    \"content\": \"Speak like Harry Potter\"\n",
      "  },\n",
      "  {\n",
      "    \"role\": \"assistant\",\n",
      "    \"content\": \"To reach the Sydney Opera House, ye could use a variety of means:\\n\\n1. By Floo Powder: Tis not available in the Muggle world, but if ye possess the magical ability, ye can use Floo Powder to transport yerself directly to the Opera House. Simply step into a fireplace, state \\\"Sydney Opera House\\\" clearly, and throw the powder into the flames. Be prepared for a dizzying journey!\\n\\n2. By Broomstick: If ye're an accomplished wizard or witch with a trusty broomstick, soar through the skies like a true Quidditch player. Set a course for Sydney and navigate yer way to the Opera House. Remember to follow all broomstick safety guidelines and be mindful of Muggle airspace regulations.\\n\\n3. By Portkey: Seek out a Portkey, a magically enchanted object that transports ye to a specific location when touched. Locate a Portkey that leads to the Sydney Opera House, grasp it tightly, and prepare for a swift and instantaneous journey.\\n\\n4. By Apparition: For witches and wizards of age, Apparition is a handy spell for teleportation. Concentrate on the Opera House in Sydney, visualize the destination clearly in yer mind, and with a sharp crack, Apparate directly to the desired location.\\n\\nAlas, these methods are purely fictional in the Muggle world. To reach the Sydney Opera House, it is advised to use conventional means such as train, ferry, bus, or even by foot. Safe travels, my Muggle friend!\"\n",
      "  }\n",
      "]\n"
     ]
    }
   ],
   "source": [
    "import json\n",
    "print(json.dumps(conversation.message_bank, indent=2))"
   ]
  },
  {
   "cell_type": "markdown",
   "metadata": {},
   "source": [
    "## What's the point?"
   ]
  },
  {
   "cell_type": "markdown",
   "metadata": {},
   "source": [
    "Beyond code simplification, the `PyLapi` resource model and callback features blur the line between frontend custom functions and backend API methods.\n",
    "\n",
    "In the above example, the application calls the `conversation.ask()` method \"naturally\", without even knowing that it is not a native API method.\n",
    "\n",
    "This can be very useful to emulate new API methods so your frontend developers can start using them even before they are released in the native API.\n",
    "\n",
    "Moreover, there are functionalities that can be easily provided at the frontend, as shown in the example above. However, it can be very complicated to implement such functionalities at the backend, like passing handles (e.g., cookies) to and fro, storing the context in persistent storage, protecting the data in transit and at rest, etc."
   ]
  },
  {
   "cell_type": "markdown",
   "metadata": {},
   "source": [
    "---\n",
    "So far, we have handcrafted the `oAPI` API class and the `Conversation` resource class.\n",
    "If you want to automatically generate the `oAPI` API class with all OpenAPI methods, together with the custom `Conversation` resource class, `PyLapi` allows you to merge your custom code into the auto-generated code.\n",
    "\n",
    "For demo purposes, we have put the custom `Conversation` class into [./oapi_rewrite.py](./oapi_rewrite.py) and configured [./oapi_config.py](./oapi_config.py) to merge the custom code into [./oapi.py](./oapi.py). Please go to the [first tutorial](./1.%20Getting%20Started%20with%20PyLapi.ipynb) for more details about the code-rewrite feature."
   ]
  },
  {
   "cell_type": "markdown",
   "metadata": {},
   "source": [
    "---\n",
    "In the next tutorial, we are going to explore more [advanced PyLapi features](./4.%20PyLapi%20Advanced%20with%20Asana.ipynb) and see how it can make a programmer's life easier."
   ]
  },
  {
   "cell_type": "markdown",
   "metadata": {},
   "source": [
    "## End of page"
   ]
  }
 ],
 "metadata": {
  "kernelspec": {
   "display_name": "Python 3",
   "language": "python",
   "name": "python3"
  },
  "language_info": {
   "codemirror_mode": {
    "name": "ipython",
    "version": 3
   },
   "file_extension": ".py",
   "mimetype": "text/x-python",
   "name": "python",
   "nbconvert_exporter": "python",
   "pygments_lexer": "ipython3",
   "version": "3.9.17"
  },
  "orig_nbformat": 4
 },
 "nbformat": 4,
 "nbformat_minor": 2
}
