{
 "cells": [
  {
   "cell_type": "markdown",
   "metadata": {},
   "source": [
    "# 3. A ChatGPT Conversation with PyLapi"
   ]
  },
  {
   "cell_type": "markdown",
   "metadata": {},
   "source": [
    "There are times you want to have more control over API requests and responses, keep track of the API call sequence, or simply monitor the API interactions.\n",
    "These tasks can be tedious and time-consuming. Your code may become more complex and therefore less readable.\n",
    "\n",
    "Here is a typical use case: In the OpenAI API, each ChatGPT interaction is independent.\n",
    "If you want to keep the conversation flowing, you need to keep track of the context.\n",
    "\n",
    "For example, you ask ChatGPT, \"Where is the Sydney Opera House?\" After receiving the answer, you ask a follow-up question: \"How do I get *there*?\"\n",
    "To allow ChatGPT to work out that \"there\" means \"the Sydney Opera House\", you need to include the entire conversation in each API call."
   ]
  },
  {
   "cell_type": "markdown",
   "metadata": {},
   "source": [
    "## Keep the chat rolling"
   ]
  },
  {
   "cell_type": "markdown",
   "metadata": {},
   "source": [
    "The `PyLapi` resource below maintains a ChatGPT conversation flow by saving all questions and answers in the `Conversation` resource class, so whenever its `ask()` method is called, the entire conversation is sent to the OpenAI API, so its response will be context-aware.\n",
    "\n",
    "All is handcrafted in just 39 lines, including space lines, without any automation or input from the OpenAPI specification, thanks to the rich features inherited from `PyLapi`."
   ]
  },
  {
   "cell_type": "code",
   "execution_count": 1,
   "metadata": {},
   "outputs": [],
   "source": [
    "from pylapi import PyLapi\n",
    "\n",
    "class oAPI(PyLapi):\n",
    "    def __init__(self, *args, **kwargs) -> None:\n",
    "        super().__init__(*args, **kwargs)\n",
    "        self.api_url = \"https://api.openai.com/v1\"\n",
    "\n",
    "@oAPI.resource_class(\"conversation\")\n",
    "class Conversation(oAPI):\n",
    "    def __init__(self, *args, **kwargs) -> None:\n",
    "        super().__init__(*args, **kwargs)\n",
    "        self.message_bank = []\n",
    "\n",
    "    @oAPI.resource_method(\"/chat/completions\", \"POST\", load=\"$\")\n",
    "    def ask(self, question: str):\n",
    "\n",
    "        @oAPI.callback\n",
    "        def request(self, role=\"user\", **kwargs):\n",
    "            model_id = kwargs[\"model\"] if \"model\" in kwargs else \"gpt-3.5-turbo\"\n",
    "            self.message_bank.append({\n",
    "                \"role\": role,\n",
    "                \"content\": kwargs[\"question\"],\n",
    "            })\n",
    "            self.raw_request[\"json\"] = {\n",
    "                \"model\": model_id,\n",
    "                \"messages\": self.message_bank,\n",
    "                \"temperature\": 0.7\n",
    "            }\n",
    "            self.raw_request[\"params\"] = {}\n",
    "\n",
    "        @oAPI.callback\n",
    "        def response(self, **kwargs):\n",
    "            if self.response_ok() and \"choices\" in self.response_data:\n",
    "                choices = self.response_data[\"choices\"]\n",
    "                self.message_bank.append(choices[0][\"message\"])\n",
    "                answers = [_[\"message\"][\"content\"] for _ in choices]\n",
    "                self.response_data.update({\n",
    "                    \"answers\": answers,\n",
    "                })"
   ]
  },
  {
   "cell_type": "markdown",
   "metadata": {},
   "source": [
    "The top-level API class `oAPI` inherits from `PyLapi` and sets the API URL `self.api_url`. The `Conversation` resource class inherits from `oAPI` and is decorated by `@oAPI.resource_class` with resource name set to `\"conversation\"`.\n",
    "The `__init__()` method creates and initialises the internal message bank.\n",
    "\n",
    "The `@oAPI.resource_method` decorator makes the `ask()` method `POST` to the API route `/chat/completions`, and `load` the entire response (as denoted by `$`) into the resource `data` attribute.\n",
    "\n",
    "There are two `callback` methods:\n",
    "- `request()` adds the user's question to the message bank before PyLapi sends it to ChatGPT.\n",
    "- `response()` adds ChatGPT's answers to the message bank and also creates the \"answers\" data attribute."
   ]
  },
  {
   "cell_type": "markdown",
   "metadata": {},
   "source": [
    "---\n",
    "Before trying it out, you need to [sign up with OpenAI](https://platform.openai.com/signup), obtain your [API key](https://platform.openai.com/account/api-keys), and save it to `._osecret` under the current directory for authenticating the API.\n",
    "\n",
    "IMPORTANT: Please store your API key securely without exposing it to any output or repositories."
   ]
  },
  {
   "cell_type": "code",
   "execution_count": 2,
   "metadata": {},
   "outputs": [],
   "source": [
    "# Authenticate with your OpanAI API key saved in `._osecret`.\n",
    "oAPI.auth(open(\"._osecret\", \"r\").readlines()[0].strip())\n",
    "conversation = oAPI.resource(\"conversation\")"
   ]
  },
  {
   "cell_type": "markdown",
   "metadata": {},
   "source": [
    "## Let's talk!"
   ]
  },
  {
   "cell_type": "markdown",
   "metadata": {},
   "source": [
    "Now you may ask your first question. Feel free to change the question to one that interests you."
   ]
  },
  {
   "cell_type": "code",
   "execution_count": 3,
   "metadata": {},
   "outputs": [
    {
     "name": "stdout",
     "output_type": "stream",
     "text": [
      "The Sydney Opera House is located in Sydney, Australia.\n"
     ]
    }
   ],
   "source": [
    "conversation.ask(\"Where is the Sydney Opera House?\")\n",
    "print(conversation.data.answers[0])"
   ]
  },
  {
   "cell_type": "markdown",
   "metadata": {},
   "source": [
    "When you ask a follow-up question, the `conversation` resource will send the entire conversation from the beginning to ChatGPT so it is aware of the context."
   ]
  },
  {
   "cell_type": "code",
   "execution_count": 4,
   "metadata": {},
   "outputs": [
    {
     "name": "stdout",
     "output_type": "stream",
     "text": [
      "There are several ways to get to the Sydney Opera House. Here are a few options:\n",
      "\n",
      "1. By public transport: You can take a train to Circular Quay station, which is a short walk from the Opera House. Circular Quay is a major transport hub in Sydney, and you can easily catch a train, bus, or ferry to get there.\n",
      "\n",
      "2. By ferry: Sydney Opera House is situated right on the harbor, so taking a ferry is a scenic way to reach it. Ferries operate regularly from Circular Quay, and there are various routes available.\n",
      "\n",
      "3. By bus: There are numerous bus services that stop near the Opera House. You can check the local bus schedule and find a route that suits your location.\n",
      "\n",
      "4. By car: If you prefer to drive, there are parking facilities available at the Opera House and nearby areas. However, parking can be limited and expensive, so it's worth considering other transportation options.\n",
      "\n",
      "It's a good idea to plan your journey in advance, considering factors like traffic, availability of public transport, and any specific events or road closures that may affect your route.\n"
     ]
    }
   ],
   "source": [
    "conversation.ask(\"How to get there?\")\n",
    "print(conversation.data.answers[0])"
   ]
  },
  {
   "cell_type": "markdown",
   "metadata": {},
   "source": [
    "You may also give intructions to ChatGPT using the \"system\" role."
   ]
  },
  {
   "cell_type": "code",
   "execution_count": 5,
   "metadata": {},
   "outputs": [
    {
     "name": "stdout",
     "output_type": "stream",
     "text": [
      "To reach the Sydney Opera House, one must embark on a magical journey! Hop on a trusty broomstick and soar through the skies, guided by the stars. Fly over the enchanting city of Sydney until you reach the sparkling waters of the harbor. Descend gracefully near Circular Quay, where the Opera House awaits. Alternatively, you can apparate directly to Circular Quay, but be mindful of the Muggles around you. Remember, the Opera House is a bewitching sight, so take a moment to appreciate its grandeur before you indulge in the wonders it holds within.\n"
     ]
    }
   ],
   "source": [
    "conversation.ask(\"Speak like Harry Potter\", role=\"system\")\n",
    "print(conversation.data.answers[0])"
   ]
  },
  {
   "cell_type": "markdown",
   "metadata": {},
   "source": [
    "You may print the message bank at any time to review the conversation so far."
   ]
  },
  {
   "cell_type": "code",
   "execution_count": 6,
   "metadata": {},
   "outputs": [
    {
     "name": "stdout",
     "output_type": "stream",
     "text": [
      "[\n",
      "  {\n",
      "    \"role\": \"user\",\n",
      "    \"content\": \"Where is the Sydney Opera House?\"\n",
      "  },\n",
      "  {\n",
      "    \"role\": \"assistant\",\n",
      "    \"content\": \"The Sydney Opera House is located in Sydney, Australia.\"\n",
      "  },\n",
      "  {\n",
      "    \"role\": \"user\",\n",
      "    \"content\": \"How to get there?\"\n",
      "  },\n",
      "  {\n",
      "    \"role\": \"assistant\",\n",
      "    \"content\": \"There are several ways to get to the Sydney Opera House. Here are a few options:\\n\\n1. By public transport: You can take a train to Circular Quay station, which is a short walk from the Opera House. Circular Quay is a major transport hub in Sydney, and you can easily catch a train, bus, or ferry to get there.\\n\\n2. By ferry: Sydney Opera House is situated right on the harbor, so taking a ferry is a scenic way to reach it. Ferries operate regularly from Circular Quay, and there are various routes available.\\n\\n3. By bus: There are numerous bus services that stop near the Opera House. You can check the local bus schedule and find a route that suits your location.\\n\\n4. By car: If you prefer to drive, there are parking facilities available at the Opera House and nearby areas. However, parking can be limited and expensive, so it's worth considering other transportation options.\\n\\nIt's a good idea to plan your journey in advance, considering factors like traffic, availability of public transport, and any specific events or road closures that may affect your route.\"\n",
      "  },\n",
      "  {\n",
      "    \"role\": \"system\",\n",
      "    \"content\": \"Speak like Harry Potter\"\n",
      "  },\n",
      "  {\n",
      "    \"role\": \"assistant\",\n",
      "    \"content\": \"To reach the Sydney Opera House, one must embark on a magical journey! Hop on a trusty broomstick and soar through the skies, guided by the stars. Fly over the enchanting city of Sydney until you reach the sparkling waters of the harbor. Descend gracefully near Circular Quay, where the Opera House awaits. Alternatively, you can apparate directly to Circular Quay, but be mindful of the Muggles around you. Remember, the Opera House is a bewitching sight, so take a moment to appreciate its grandeur before you indulge in the wonders it holds within.\"\n",
      "  }\n",
      "]\n"
     ]
    }
   ],
   "source": [
    "import json\n",
    "print(json.dumps(conversation.message_bank, indent=2))"
   ]
  },
  {
   "cell_type": "markdown",
   "metadata": {},
   "source": [
    "## What's the point?"
   ]
  },
  {
   "cell_type": "markdown",
   "metadata": {},
   "source": [
    "Beyond code simplification, the `PyLapi` resource model and callback features blur the line between frontend custom functions and backend API methods.\n",
    "\n",
    "In the above example, the application calls the `conversation.ask()` method \"naturally\", without even knowing that it is not a native API method.\n",
    "\n",
    "This can be very useful to emulate new API methods so your frontend developers can start using them even before they are released in the native API.\n",
    "\n",
    "Moreover, there are functionalities that can be provided at the frontend easily but are very complicated to implement at the backend.\n",
    "\n",
    "In the above example, keeping the context at the backend involves passing handles (e.g., cookies) to and fro, storing the context in persistent storage, protecting the data in transit and at rest, etc."
   ]
  },
  {
   "cell_type": "markdown",
   "metadata": {},
   "source": [
    "---\n",
    "In the next tutorial, we are going to explore more advanced features of `PyLapi` and see how it can make a programmer's life easier."
   ]
  },
  {
   "cell_type": "markdown",
   "metadata": {},
   "source": [
    "## End of page"
   ]
  }
 ],
 "metadata": {
  "kernelspec": {
   "display_name": "Python 3",
   "language": "python",
   "name": "python3"
  },
  "language_info": {
   "codemirror_mode": {
    "name": "ipython",
    "version": 3
   },
   "file_extension": ".py",
   "mimetype": "text/x-python",
   "name": "python",
   "nbconvert_exporter": "python",
   "pygments_lexer": "ipython3",
   "version": "3.9.17"
  },
  "orig_nbformat": 4
 },
 "nbformat": 4,
 "nbformat_minor": 2
}
