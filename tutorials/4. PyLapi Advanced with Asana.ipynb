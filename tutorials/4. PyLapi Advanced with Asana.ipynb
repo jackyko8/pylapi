{
 "cells": [
  {
   "cell_type": "markdown",
   "metadata": {},
   "source": [
    "# 4. PyLapi Advanced with Asana"
   ]
  },
  {
   "cell_type": "markdown",
   "metadata": {},
   "source": [
    "`PyLapi` is built around resources.\n",
    "A \"resource\" represents an entity stored on the backend server.\n",
    "\n",
    "For example, Asana, a popular project management service, records things you need to do as \"tasks\", which can be in multiple \"projects\".\n",
    "Both tasks and projects are examples of resources, with their resource data stored as backend entities and presented to the frontend through the API.\n",
    "\n",
    "In this tutorial, we are going to use the [Asana API](https://developers.asana.com/reference/rest-api-reference) as an example to illustrate how the PyLapi resource model can efficiently manage backend resources."
   ]
  },
  {
   "cell_type": "markdown",
   "metadata": {},
   "source": [
    "---\n",
    "The Asana API is well designed, following best practices. It has consistent patterns and a simple and efficient data structure.\n",
    "\n",
    "These are the patterns across all Asana resources:\n",
    "1. Each resource entity is assigned a unique global ID called `gid`.\n",
    "    <br/><br/>\n",
    "2. The resource name is identified by the first segment of the API path.\n",
    "    - Example: `projects` in `/projects/{gid}/project_statuses`.\n",
    "    <br/><br/>\n",
    "3. Request data is sent in the request body's `data` attribute.\n",
    "    - Example: Request body `{\"data\": {\"approval_status\": \"approved\"}}` to update a task.\n",
    "    <br/><br/>\n",
    "4. Response data is received in the `data` attribute.\n",
    "    - Example: Response `{\"data\": {\"gid\": \"1234567890123456\", \"assignee\": {...}, ...}}` contains the task resource data in attribute \"data\".\n",
    "    <br/><br/>\n",
    "5. A GET on the resource path with no sub-paths returns an array of resources.\n",
    "    - Example: `/projects` returns a list of projects.\n",
    "    <br/><br/>\n",
    "6. A GET on the resource path followed by `{gid}` returns resource data for a single entity.\n",
    "    - Example: `GET /projects/{gid}` gets the project identified by `gid`.\n",
    "    <br/><br/>\n",
    "7. A PUT on the resource path followed by `{gid}` updates an existing resource with attributes to update in the request body and responds with the updated resource data.\n",
    "    - Example: `PUT /projects/{gid}` updates the project identified by `gid` and responds with the updated project data.\n",
    "    <br/><br/>\n",
    "8. A POST on the resource path with no sub-paths creates a new resource entity with the required attributes in the request body and returns the resource data of the new entity.\n",
    "    - Example: `POST /projects` creates a project and responds with the new project data.\n",
    "    <br/><br/>\n",
    "9. A DELETE on the resource path followed by `{gid}` deletes an existing resource.\n",
    "    - Example: `DELETE /projects/{gid}` deletes the project identified by `gid`.\n",
    "    <br/><br/>\n",
    "10. Query parameters are used to identify the resource and filter the outcome.\n",
    "    - Example: `/tasks?project=1234567890123456&opt_fields=assignee.name,due_on` lists all the specified project's tasks, each with the assignee's name and the due date."
   ]
  },
  {
   "cell_type": "markdown",
   "metadata": {},
   "source": [
    "## Once and for all"
   ]
  },
  {
   "cell_type": "markdown",
   "metadata": {},
   "source": [
    "Based on these 10 general patterns of the Asana API design, we can create some common API methods in the root API class, simplifying the interface and reducing the learning curve for frontend programmers.\n",
    "\n",
    "Here is the `aAPI` root class implementing the Asana patterns, commented with the pattern reference number."
   ]
  },
  {
   "cell_type": "code",
   "execution_count": 1,
   "metadata": {},
   "outputs": [],
   "source": [
    "from pylapi import PyLapi\n",
    "\n",
    "class aAPI(PyLapi):\n",
    "    def __init__(self, *args, **kwargs) -> None:\n",
    "        super().__init__(*args, **kwargs)\n",
    "        self.api_url = \"https://app.asana.com/api/1.0\"\n",
    "        # 1. {gid} global ID\n",
    "        # Maps all resource.data.gid to resource.gid,\n",
    "        # so it can be used as an implicit argument.\n",
    "        self.resource_attrs.update({\"gid\": \"$.gid\"})\n",
    "\n",
    "    # 4. \"give\" specifies the response attribute to retun by the method\n",
    "    # 5. GET (default) with no resource path lists resource entities\n",
    "    @PyLapi.resource_method(give=\"$.data\")\n",
    "    def list(self): pass\n",
    "\n",
    "    # 1. {gid} global ID\n",
    "    # 6. GET (default) to retrieve resource data\n",
    "    # 4. \"give\" specifies the response attribute to retun by the method\n",
    "    # 4. \"load\" specifies the response attribute to load into the object's data attribute\n",
    "    @PyLapi.resource_method(method_path=\"{gid}\", http_method=\"GET\", give=\"$.data\", load=\"$.data\")\n",
    "    def load(self): pass\n",
    "\n",
    "    # 1. {gid} global ID\n",
    "    # 7. PUT to update the resource entity with request body passed in as `data=`\n",
    "    # 3. \"send\" to format the request body with $ substituted by the \"data\" argument value\n",
    "    # 4. \"give\" specifies the response attribute to retun by the method\n",
    "    # 4. \"load\" specifies the response attribute to load into the object's data attribute\n",
    "    @PyLapi.resource_method(method_path=\"{gid}\", http_method=\"PUT\", send={\"data\": \"$\"}, give=\"$.data\", load=\"$.data\")\n",
    "    def update(self): pass\n",
    "\n",
    "    # 8. POST to create a new resource entity with request body passed in as `data=`\n",
    "    # 3. \"send\" to format the request body with $ substituted by the \"data\" argument value\n",
    "    # 4. \"give\" specifies the response attribute to retun by the method\n",
    "    # 4. \"load\" specifies the response attribute to load into the object's data attribute\n",
    "    @PyLapi.resource_method(http_method=\"POST\", send={\"data\": \"$\"}, give=\"$.data\", load=\"$.data\")\n",
    "    def create(self): pass\n",
    "\n",
    "    # 1. {gid} global ID\n",
    "    # 9. DELETE to delete a new resource entity\n",
    "    @PyLapi.resource_method(method_path=\"{gid}\", http_method=\"DELETE\", give=None)\n",
    "    def delete(self): pass"
   ]
  },
  {
   "cell_type": "markdown",
   "metadata": {},
   "source": [
    "Now let us define two resources, project and task, for demonstration purposes."
   ]
  },
  {
   "cell_type": "code",
   "execution_count": 2,
   "metadata": {},
   "outputs": [],
   "source": [
    "# 2. We choose the singular resource name derived from the first segment of the API path\n",
    "\n",
    "@aAPI.resource_class(resource_name=\"project\", resource_base_path=\"projects\")\n",
    "class ProjectResource(aAPI): pass\n",
    "\n",
    "@aAPI.resource_class(resource_name=\"task\", resource_base_path=\"tasks\")\n",
    "class TaskResource(aAPI): pass"
   ]
  },
  {
   "cell_type": "markdown",
   "metadata": {},
   "source": [
    "---\n",
    "Before using the Asana API, you need to [sign up with Asana](https://asana.com/create-account), create a [personal access token](https://app.asana.com/0/my-apps), and save it to `._asecret` under the current directory for authenticating the API.\n",
    "\n",
    "IMPORTANT: Please store your Asana personal access token securely without exposing it to any printouts, log messages, or repositories."
   ]
  },
  {
   "cell_type": "code",
   "execution_count": 3,
   "metadata": {},
   "outputs": [],
   "source": [
    "# Authenticate with your Asana personal access token previously saved in `._asecret`\n",
    "aAPI.auth(open(\"._asecret\", \"r\").readlines()[0].strip())"
   ]
  },
  {
   "cell_type": "markdown",
   "metadata": {},
   "source": [
    "All Asana accounts come with an \"Asana\" project with six onboarding tasks. Let us find out what they are."
   ]
  },
  {
   "cell_type": "code",
   "execution_count": 4,
   "metadata": {},
   "outputs": [
    {
     "name": "stdout",
     "output_type": "stream",
     "text": [
      "1204597119276197: 1️⃣ First: Get started using My Tasks\n",
      "1204597119276199: 2️⃣ Second: Find the layout that's right for you\n",
      "1204597119276201: 3️⃣ Third: Get organized with sections\n",
      "1204597119276203: 4️⃣ Fourth: Stay on top of incoming work\n",
      "1204597119276205: 5️⃣ Fifth: Save time by collaborating in Asana\n",
      "1204597119276207: 6️⃣ Sixth: Make work manageable\n"
     ]
    }
   ],
   "source": [
    "# List all projects\n",
    "project = aAPI.resource(\"project\")\n",
    "project_list = project.list()\n",
    "\n",
    "if not project.response_ok():\n",
    "    print(f\"API response: {project_list}\")\n",
    "else:\n",
    "    # Find the gid (global ID) of the \"Asana\" project\n",
    "    project_gid = ([_[\"gid\"] for _ in project_list if _[\"name\"] == \"Asana\"])[0]\n",
    "\n",
    "    # List all tasks of the project\n",
    "    task = aAPI.resource(\"task\")\n",
    "    task_list = task.list(project=project_gid)\n",
    "\n",
    "    # Print all tasks in name order\n",
    "    task_list.sort(key=lambda _: _[\"name\"])\n",
    "    for _ in task_list: print(f'{_[\"gid\"]}: {_[\"name\"]}')"
   ]
  },
  {
   "cell_type": "markdown",
   "metadata": {},
   "source": [
    "---\n",
    "You can also access the low-level API request and response if you so choose."
   ]
  },
  {
   "cell_type": "code",
   "execution_count": 5,
   "metadata": {},
   "outputs": [
    {
     "name": "stdout",
     "output_type": "stream",
     "text": [
      "Request:\n",
      "GET\n",
      "{\n",
      "  \"url\": \"https://app.asana.com/api/1.0/tasks\",\n",
      "  \"headers\": {\n",
      "    \"Authorization\": \"Bearer <api_auth>\"\n",
      "  },\n",
      "  \"params\": {\n",
      "    \"project\": \"1204597201454351\"\n",
      "  }\n",
      "}\n"
     ]
    }
   ],
   "source": [
    "import json\n",
    "\n",
    "print(\"Request:\")\n",
    "print(task.request_http_method)\n",
    "print(json.dumps(task.request, indent=2))"
   ]
  },
  {
   "cell_type": "code",
   "execution_count": 6,
   "metadata": {},
   "outputs": [
    {
     "name": "stdout",
     "output_type": "stream",
     "text": [
      "Response:\n",
      "<Response [200]>\n",
      "[{'gid': '1204597119276197', 'name': '1️⃣ First: Get started using My Tasks', 'resource_type': 'task', 'resource_subtype': 'default_task'}, {'gid': '1204597119276199', 'name': \"2️⃣ Second: Find the layout that's right for you\", 'resource_type': 'task', 'resource_subtype': 'default_task'}, {'gid': '1204597119276201', 'name': '3️⃣ Third: Get organized with sections', 'resource_type': 'task', 'resource_subtype': 'default_task'}, {'gid': '1204597119276203', 'name': '4️⃣ Fourth: Stay on top of incoming work', 'resource_type': 'task', 'resource_subtype': 'default_task'}, {'gid': '1204597119276205', 'name': '5️⃣ Fifth: Save time by collaborating in Asana', 'resource_type': 'task', 'resource_subtype': 'default_task'}, {'gid': '1204597119276207', 'name': '6️⃣ Sixth: Make work manageable', 'resource_type': 'task', 'resource_subtype': 'default_task'}]\n"
     ]
    }
   ],
   "source": [
    "print(\"Response:\")\n",
    "print(task.response)\n",
    "print(task.response_data)"
   ]
  },
  {
   "cell_type": "markdown",
   "metadata": {},
   "source": [
    "## Loading Resource Data"
   ]
  },
  {
   "cell_type": "markdown",
   "metadata": {},
   "source": [
    "So far we are only listing resources but not loading any resource data yet, so the resource objects are still empty."
   ]
  },
  {
   "cell_type": "code",
   "execution_count": 7,
   "metadata": {},
   "outputs": [
    {
     "name": "stdout",
     "output_type": "stream",
     "text": [
      "{}\n",
      "{}\n"
     ]
    }
   ],
   "source": [
    "print(project)\n",
    "print(task)"
   ]
  },
  {
   "cell_type": "markdown",
   "metadata": {},
   "source": [
    "To load project resource data, we call `project.load()`.\n",
    "Thanks to the resource attribute mapping `self.resource_attrs.update({\"gid\": \"$.gid\"})` in the `aAPI` root API class, `project.gid` is mapped to `project.data.gid`.\n",
    "\n",
    "The last line is commented out to avoid the lengthy output. You may uncomment the last print statement if you want to see all resource data attributes."
   ]
  },
  {
   "cell_type": "code",
   "execution_count": 8,
   "metadata": {},
   "outputs": [
    {
     "name": "stdout",
     "output_type": "stream",
     "text": [
      "1204597201454351\n",
      "Asana\n",
      "Jacky Ko\n"
     ]
    }
   ],
   "source": [
    "# Load resource data of the project into the project object\n",
    "project.load(project_gid)\n",
    "print(project.gid) # .gid is mapped to .data.gid\n",
    "print(project.data.name)\n",
    "print(project.data.owner.name)\n",
    "# print(project) # Uncomment to print the full project object"
   ]
  },
  {
   "cell_type": "markdown",
   "metadata": {},
   "source": [
    "Similarly, you may load the first task on the list into the `task` resource object."
   ]
  },
  {
   "cell_type": "code",
   "execution_count": 9,
   "metadata": {},
   "outputs": [
    {
     "name": "stdout",
     "output_type": "stream",
     "text": [
      "1204597119276197\n",
      "1️⃣ First: Get started using My Tasks\n",
      "Recently assigned\n",
      "[{'gid': '1205189493487562', 'name': 'Deliverable', 'resource_type': 'tag'}, {'gid': '1205189493487563', 'name': 'Social', 'resource_type': 'tag'}]\n"
     ]
    }
   ],
   "source": [
    "# Load resource data of the first task on the list into the task object\n",
    "task.load(task_list[0][\"gid\"])\n",
    "print(task.gid) # .gid is mapped to .data.gid\n",
    "print(task.data.name)\n",
    "print(task.data.assignee_section.name)\n",
    "print(task.data.tags)\n",
    "# print(task) # Uncomment to print the full task object"
   ]
  },
  {
   "cell_type": "markdown",
   "metadata": {},
   "source": [
    "---\n",
    "In the next tutorial, we are going to use the [PyLapi generator automation](./5.%20PyLapi%20Generator%20Automation.ipynb) to merge this custom code into the `aAPI` class."
   ]
  },
  {
   "cell_type": "markdown",
   "metadata": {},
   "source": [
    "## End of page"
   ]
  }
 ],
 "metadata": {
  "kernelspec": {
   "display_name": "Python 3",
   "language": "python",
   "name": "python3"
  },
  "language_info": {
   "codemirror_mode": {
    "name": "ipython",
    "version": 3
   },
   "file_extension": ".py",
   "mimetype": "text/x-python",
   "name": "python",
   "nbconvert_exporter": "python",
   "pygments_lexer": "ipython3",
   "version": "3.9.17"
  },
  "orig_nbformat": 4
 },
 "nbformat": 4,
 "nbformat_minor": 2
}
