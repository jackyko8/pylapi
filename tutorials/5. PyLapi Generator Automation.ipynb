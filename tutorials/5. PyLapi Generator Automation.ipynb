{
 "cells": [
  {
   "cell_type": "markdown",
   "metadata": {},
   "source": [
    "# 5. PyLapi Generator Automation"
   ]
  },
  {
   "cell_type": "markdown",
   "metadata": {},
   "source": [
    "In our [last tutorial](./4.%20PyLapi%20Advanced%20with%20Asana.ipynb), we created the root `aAPI` class with five methods: `list()`, `load()`, `update()`, `create()`, and `delete()`. We also created two resource classes: `ProjectResource` and `TaskResource`.\n",
    "\n",
    "In this tutorial, we generalise this design to all resource classes by putting this piece of custom code into [./aapi_rewrite.py](./aapi_rewrite.py) and letting the PyLapi generator merge the custom code into the generated `aAPI` class automatically."
   ]
  },
  {
   "cell_type": "markdown",
   "metadata": {},
   "source": [
    "---\n",
    "Let us illustrate the PyLapi generator configuration and the code-rewrite feature, which we have briefly discussed in the [first tutorial](./1.%20Getting%20Started%20with%20PyLapi.ipynb).\n",
    "\n",
    "Here is the `aAPI` configuration file [./aapi_config.py](./aapi_config.py):"
   ]
  },
  {
   "cell_type": "code",
   "execution_count": 1,
   "metadata": {},
   "outputs": [
    {
     "name": "stdout",
     "output_type": "stream",
     "text": [
      "# aAPI (Asana API) PyLapi Generator Configuration\n",
      "\n",
      "api_class_name = \"aAPI\"\n",
      "output_py_name = \"./aapi.py\"\n",
      "oas_file_name = \"./asana_oas.json\"\n",
      "\n",
      "guide_attrs = {\n",
      "    \"summary\",\n",
      "    \"description\",\n",
      "    \"parameters\",\n",
      "    \"request_body\",\n",
      "    # \"ref\",\n",
      "}\n",
      "\n",
      "naming = {\n",
      "    \"class_name\": \"upperCamel(singular($.path_segments[0])) + 'Resource'\",\n",
      "    \"resource_name\": \"snake(singular($.path_segments[0]))\",\n",
      "    \"class_path\": \"$.path_segments[0]\",\n",
      "    \"resource_path\": \"re.sub(r'{[a-zA-Z0-9_-]+gid}', '{gid}', '/'.join($.path_segments[1:]))\",\n",
      "    \"method_name\": \"lowerCamel($.operation_id)\",\n",
      "}\n",
      "\n",
      "resource_class_args = {\"gid\": \"$.gid\"}\n",
      "\n",
      "resource_method_args = {\"send\": {\"data\": \"$\"}, \"give\": \"$.data\"}\n",
      "\n",
      "code_rewrite_file_name = \"./aapi_rewrite.py\"\n"
     ]
    }
   ],
   "source": [
    "!cat ./aapi_config.py"
   ]
  },
  {
   "cell_type": "markdown",
   "metadata": {},
   "source": [
    "In the configuration file [./aapi_config.py](./aapi_config.py) shown above, we are generating an API class called `aAPI` and storing the Python script in [./aapi.py](./aapi.py).\n",
    "The OAS (OpenAPI Specification) is read from [./asana_oas.json](./asana_oas.json).\n",
    "\n",
    "There are a few more settings:\n",
    "\n",
    "- `guide_attrs`: The OAS attributes included into the script as inline comments, which serve as a user guide.\n",
    "  - You may uncomment \"ref\" to dereference the OAS attributes if you don't mind a lengthy script file.\n",
    "<br/><br/>\n",
    "\n",
    "- `naming`: The conversion of class names, resource names, class paths, resource paths, and method names from OAS specifications\n",
    "  - We use the singular class name and resource name (e.g., \"project\" instead of projects) here to make the code more readable.\n",
    "    - This is valid as long as the API does not use both singular and plural resource names in the lead segment of the API path, like \"/project\" and \"/projects\".\n",
    "    - The PyLapi generator will check and produce an error if class paths overlap.\n",
    "  - The setting `\"resource_path\": \"re.sub(...)` replaces any resource-specific global ID (gid) with a general one, e.g., `{project_gid}` into `{gid}`, for resource attribute mapping (to be discussed later).\n",
    "<br/><br/>\n",
    "\n",
    "- `resourdce_class_args`: Extra arguments for the `@aAPI.resource_class` decorator\n",
    "  - The Asana API uses `gid` (global ID) to identify resources. The setting `resource_class_args = {\"gid\": \"$.gid\"}` maps the `.data.gid` attribute of the object to the `.gid` attribute, so it can be used as implicit arguments.\n",
    "<br/><br/>\n",
    "\n",
    "- `resource_method_args`: Extra arguments for the `@aAPI.resource_method` decorator\n",
    "  - The Asana API puts the resource data into the \"data\" attribute in the request body and the response text. The `send` and `give` decorator arguments will apply generally to all methods, as in `resource_method_args = {\"send\": {\"data\": \"$\"}, \"give\": \"$.data\"}`.\n",
    "<br/><br/>\n",
    "\n",
    "- `code_rewrite_file_name`: Where the rewritten code is stored\n",
    "  - The `aAPI` class we manually created in the [last tutorial](./4.%20PyLapi%20Advanced%20with%20Asana.ipynb) is saved in [./aapi_rewrite.py](./aapi_rewrite.py)."
   ]
  },
  {
   "cell_type": "code",
   "execution_count": 2,
   "metadata": {},
   "outputs": [
    {
     "name": "stdout",
     "output_type": "stream",
     "text": [
      "class aAPI(PyLapi):\n",
      "    def __init__(self, *args, **kwargs) -> None:\n",
      "        super().__init__(*args, **kwargs)\n",
      "        self.api_url = \"https://app.asana.com/api/1.0\"\n",
      "\n",
      "    @PyLapi.resource_method(give=\"$.data\")\n",
      "    def list(self): pass\n",
      "\n",
      "    @PyLapi.resource_method(method_path=\"{gid}\", http_method=\"GET\", give=\"$.data\", load=\"$.data\")\n",
      "    def load(self): pass\n",
      "\n",
      "    @PyLapi.resource_method(method_path=\"{gid}\", http_method=\"PUT\", send={\"data\": \"$\"}, give=\"$.data\", load=\"$.data\")\n",
      "    def update(self): pass\n",
      "\n",
      "    @PyLapi.resource_method(http_method=\"POST\", send={\"data\": \"$\"}, give=\"$.data\", load=\"$.data\")\n",
      "    def create(self): pass\n",
      "\n",
      "    @PyLapi.resource_method(method_path=\"{gid}\", http_method=\"DELETE\", give=None)\n",
      "    def delete(self): pass\n"
     ]
    }
   ],
   "source": [
    "!cat ./aapi_rewrite.py"
   ]
  },
  {
   "cell_type": "markdown",
   "metadata": {},
   "source": [
    "---\n",
    "Now we run the PyLapi generator to generate the `aAPI` Python script, with the rewritten code above merged into the script automatically."
   ]
  },
  {
   "cell_type": "code",
   "execution_count": 3,
   "metadata": {},
   "outputs": [
    {
     "name": "stdout",
     "output_type": "stream",
     "text": [
      "aAPI generated, merged with ./aapi_rewrite.py, and saved in ./aapi.py\n"
     ]
    }
   ],
   "source": [
    "!../tools/pylapi-autogen aapi_config.py"
   ]
  },
  {
   "cell_type": "markdown",
   "metadata": {},
   "source": [
    "---\n",
    "The `aAPI` example here is a realistic use case of `PyLapi`: You\n",
    "\n",
    "- automatically generate a Python API using the PyLapi generator,\n",
    "- customise the code to your needs in a rewrite file,\n",
    "- update the configuration with `code_rewrite_file_name`, and\n",
    "- rerun the PyLapi generator to merge the custom code into the Python API.\n",
    "\n",
    "With `aAPI` ready to use, we are now well set to explore it and see how we can use it to manage [resource data](./6.%20Resource%20Data.ipynb) and [search and modify](./8.%20Search%20and%20Modify.ipynb) them, as you would in real life."
   ]
  },
  {
   "cell_type": "markdown",
   "metadata": {},
   "source": [
    "## End of page"
   ]
  }
 ],
 "metadata": {
  "kernelspec": {
   "display_name": "Python 3",
   "language": "python",
   "name": "python3"
  },
  "language_info": {
   "codemirror_mode": {
    "name": "ipython",
    "version": 3
   },
   "file_extension": ".py",
   "mimetype": "text/x-python",
   "name": "python",
   "nbconvert_exporter": "python",
   "pygments_lexer": "ipython3",
   "version": "3.9.17"
  },
  "orig_nbformat": 4
 },
 "nbformat": 4,
 "nbformat_minor": 2
}
