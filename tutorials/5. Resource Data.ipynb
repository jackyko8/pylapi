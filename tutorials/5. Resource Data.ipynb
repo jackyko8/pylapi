{
 "cells": [
  {
   "cell_type": "markdown",
   "metadata": {},
   "source": [
    "# 5. Resource Data"
   ]
  },
  {
   "cell_type": "markdown",
   "metadata": {},
   "source": [
    "In the previous tutorial, we managed to create two resource objects, `project` and `task`, and load them with resource data. In this tutorial, let us explore how to access the resource data.\n",
    "\n",
    "We use the `tag` resource in the examples so we can print the full `tag` object without a long printout."
   ]
  },
  {
   "cell_type": "code",
   "execution_count": 1,
   "metadata": {},
   "outputs": [],
   "source": [
    "#!cat ./aapi_rewrite.py"
   ]
  },
  {
   "cell_type": "code",
   "execution_count": 2,
   "metadata": {},
   "outputs": [],
   "source": [
    "#!../tools/pylapi_gen aapi_config.py"
   ]
  },
  {
   "cell_type": "code",
   "execution_count": 3,
   "metadata": {},
   "outputs": [],
   "source": [
    "from pylapi import PyLapi\n",
    "\n",
    "class aAPI(PyLapi):\n",
    "    def __init__(self, *args, **kwargs) -> None:\n",
    "        super().__init__(*args, **kwargs)\n",
    "        self.api_url = \"https://app.asana.com/api/1.0\"\n",
    "        self._resource_attrs.update({\"gid\": \"$.gid\"})\n",
    "\n",
    "    @PyLapi.resource_method(give=\"$.data\")\n",
    "    def list(self): pass\n",
    "\n",
    "    @PyLapi.resource_method(method_route=\"{gid}\", give=\"$.data\", load=\"$.data\")\n",
    "    def load(self): pass\n",
    "\n",
    "    @PyLapi.resource_method(method_route=\"{gid}\", http_method=\"PUT\", send={\"data\": \"$\"}, give=\"$.data\", load=\"$.data\")\n",
    "    def update(self): pass\n",
    "\n",
    "    @PyLapi.resource_method(http_method=\"POST\", send={\"data\": \"$\"}, give=\"$.data\", load=\"$.data\")\n",
    "    def create(self): pass\n",
    "\n",
    "    @PyLapi.resource_method(method_route=\"{gid}\", http_method=\"DELETE\", give=None)\n",
    "    def delete(self): pass"
   ]
  },
  {
   "cell_type": "markdown",
   "metadata": {},
   "source": [
    "Here we use the same root API class and resource classes in [aapy.py](./aAPI.py) and the Asana Personal Access Token (PAT) as in the previous tutorial."
   ]
  },
  {
   "cell_type": "code",
   "execution_count": 4,
   "metadata": {},
   "outputs": [],
   "source": [
    "aAPI.auth(open(f\"._asecret\", \"r\").readlines()[0].strip())"
   ]
  },
  {
   "cell_type": "markdown",
   "metadata": {},
   "source": [
    "## Loading Resource Data"
   ]
  },
  {
   "cell_type": "markdown",
   "metadata": {},
   "source": [
    "Now let us load the resource data of the first `tag` on the list and find the workspace ID the tag belongs to."
   ]
  },
  {
   "cell_type": "code",
   "execution_count": 6,
   "metadata": {},
   "outputs": [],
   "source": [
    "@aAPI.resource_class(\"tag\", \"tags\")\n",
    "class TagResource(aAPI): pass"
   ]
  },
  {
   "cell_type": "code",
   "execution_count": 8,
   "metadata": {},
   "outputs": [
    {
     "name": "stdout",
     "output_type": "stream",
     "text": [
      "tag_list=[{'gid': '1205189493487562', 'name': 'Deliverable', 'resource_type': 'tag'}, {'gid': '1205189493487563', 'name': 'Social', 'resource_type': 'tag'}, {'gid': '1205236784702138', 'name': 'External', 'resource_type': 'tag'}, {'gid': '1205246087901757', 'name': 'PoC', 'resource_type': 'tag'}]\n",
      "tag={\n",
      "  \"gid\": \"1205189493487562\",\n",
      "  \"color\": \"dark-orange\",\n",
      "  \"created_at\": \"2023-08-04T22:47:56.631Z\",\n",
      "  \"followers\": [],\n",
      "  \"name\": \"Deliverable\",\n",
      "  \"notes\": \"\",\n",
      "  \"permalink_url\": \"https://app.asana.com/0/1205189493487562/1205189493487562\",\n",
      "  \"resource_type\": \"tag\",\n",
      "  \"workspace\": {\n",
      "    \"gid\": \"1204597085072493\",\n",
      "    \"name\": \"accsoft.com.au\",\n",
      "    \"resource_type\": \"workspace\"\n",
      "  }\n",
      "}\n"
     ]
    }
   ],
   "source": [
    "tag = aAPI.resource(\"tag\")\n",
    "\n",
    "tag_list = tag.list()\n",
    "print(f\"tag_list={tag_list}\")\n",
    "\n",
    "# Load the first tag\n",
    "tag_gid = tag_list[0][\"gid\"]\n",
    "tag.load(gid=tag_gid)\n",
    "print(f\"tag={tag}\")"
   ]
  },
  {
   "cell_type": "markdown",
   "metadata": {},
   "source": [
    "Based on the above output, the workspace's gid (Global ID) can be found in `tag.data.workspace.gid`."
   ]
  },
  {
   "cell_type": "code",
   "execution_count": 9,
   "metadata": {},
   "outputs": [
    {
     "name": "stdout",
     "output_type": "stream",
     "text": [
      "1204597085072493\n"
     ]
    }
   ],
   "source": [
    "workspace_gid = tag.data.workspace.gid\n",
    "print(workspace_gid)"
   ]
  },
  {
   "cell_type": "markdown",
   "metadata": {},
   "source": [
    "Next, we define a new resource class, `workspace`, with `workspaces` as its base route."
   ]
  },
  {
   "cell_type": "code",
   "execution_count": 10,
   "metadata": {},
   "outputs": [],
   "source": [
    "@aAPI.resource_class(\"workspace\", \"workspaces\", gid=\"$.gid\")\n",
    "class WorkspaceResource(aAPI): pass"
   ]
  },
  {
   "cell_type": "markdown",
   "metadata": {},
   "source": [
    "To create a resource object, we call the class method `aAPI.resource()` with the resource name `workspace`."
   ]
  },
  {
   "cell_type": "code",
   "execution_count": 11,
   "metadata": {},
   "outputs": [
    {
     "name": "stdout",
     "output_type": "stream",
     "text": [
      "{'gid': '1204597085072493', 'email_domains': ['accsoft.com.au'], 'is_organization': True, 'name': 'accsoft.com.au', 'resource_type': 'workspace'}\n"
     ]
    }
   ],
   "source": [
    "workspace = aAPI.resource(\"workspace\")\n",
    "print(workspace.load(workspace_gid))"
   ]
  },
  {
   "cell_type": "markdown",
   "metadata": {},
   "source": [
    "The resource data returned by the `load()` method is also loaded into the `workspace` object. Let us print it to verify."
   ]
  },
  {
   "cell_type": "code",
   "execution_count": 12,
   "metadata": {},
   "outputs": [
    {
     "name": "stdout",
     "output_type": "stream",
     "text": [
      "{\n",
      "  \"gid\": \"1204597085072493\",\n",
      "  \"email_domains\": [\n",
      "    \"accsoft.com.au\"\n",
      "  ],\n",
      "  \"is_organization\": true,\n",
      "  \"name\": \"accsoft.com.au\",\n",
      "  \"resource_type\": \"workspace\"\n",
      "}\n"
     ]
    }
   ],
   "source": [
    "print(workspace)"
   ]
  },
  {
   "cell_type": "markdown",
   "metadata": {},
   "source": [
    "## Manipulating Resource Objects \"Naturally\""
   ]
  },
  {
   "cell_type": "markdown",
   "metadata": {},
   "source": [
    "You can manipulate the resource object using the familiar attribute and index notation.\n",
    "\n",
    "Please note that all changes happen locally in the resource object and will not affect any data records stored in the backend storage. If you want to update the backend data, the appropriate API method needs to be implemented. More detail is available in the [Search and Modify](3.%20Search%20and%20Modify.ipynb) tutorial."
   ]
  },
  {
   "cell_type": "code",
   "execution_count": 13,
   "metadata": {},
   "outputs": [
    {
     "name": "stdout",
     "output_type": "stream",
     "text": [
      "Workspace resource data:\n",
      "{\n",
      "  \"gid\": \"1204597085072493\",\n",
      "  \"email_domains\": [\n",
      "    \"accsoft.com.au\"\n",
      "  ],\n",
      "  \"is_organization\": true,\n",
      "  \"name\": \"accsoft.com.au\",\n",
      "  \"resource_type\": \"workspace\"\n",
      "}\n",
      "workspace.data.gid: 1204597085072493\n",
      "workspace.data.email_domains: ['accsoft.com.au']\n"
     ]
    }
   ],
   "source": [
    "print(f\"Workspace resource data:\\n{workspace}\")\n",
    "print(f\"workspace.data.gid: {workspace.data.gid}\")\n",
    "print(f\"workspace.data.email_domains: {workspace.data.email_domains}\")"
   ]
  },
  {
   "cell_type": "markdown",
   "metadata": {},
   "source": [
    "To add a new attribute to the resource data, you simply assign a value to the attribute under `workspace.data`."
   ]
  },
  {
   "cell_type": "code",
   "execution_count": 14,
   "metadata": {},
   "outputs": [
    {
     "name": "stdout",
     "output_type": "stream",
     "text": [
      "After 'new_attribute' is added, workspace becomes: {\n",
      "  \"gid\": \"1204597085072493\",\n",
      "  \"email_domains\": [\n",
      "    \"accsoft.com.au\"\n",
      "  ],\n",
      "  \"is_organization\": true,\n",
      "  \"name\": \"accsoft.com.au\",\n",
      "  \"resource_type\": \"workspace\",\n",
      "  \"new_attribute\": \"some value\"\n",
      "}\n"
     ]
    }
   ],
   "source": [
    "workspace.data.new_attribute = \"some value\"\n",
    "print(f\"After 'new_attribute' is added, workspace becomes: {workspace}\")"
   ]
  },
  {
   "cell_type": "markdown",
   "metadata": {},
   "source": [
    "You can assign a new value to the attribute to update it."
   ]
  },
  {
   "cell_type": "code",
   "execution_count": 15,
   "metadata": {},
   "outputs": [
    {
     "name": "stdout",
     "output_type": "stream",
     "text": [
      "After 'new_attribute' is updated, workspace becomes: {\n",
      "  \"gid\": \"1204597085072493\",\n",
      "  \"email_domains\": [\n",
      "    \"accsoft.com.au\"\n",
      "  ],\n",
      "  \"is_organization\": true,\n",
      "  \"name\": \"accsoft.com.au\",\n",
      "  \"resource_type\": \"workspace\",\n",
      "  \"new_attribute\": \"new value\"\n",
      "}\n"
     ]
    }
   ],
   "source": [
    "workspace.data.new_attribute = \"new value\"\n",
    "print(f\"After 'new_attribute' is updated, workspace becomes: {workspace}\")"
   ]
  },
  {
   "cell_type": "markdown",
   "metadata": {},
   "source": [
    "To delete an attribute, simply use the `del` command."
   ]
  },
  {
   "cell_type": "code",
   "execution_count": 16,
   "metadata": {},
   "outputs": [
    {
     "name": "stdout",
     "output_type": "stream",
     "text": [
      "After 'new_attribute' is deleted, workspace becomes: {\n",
      "  \"gid\": \"1204597085072493\",\n",
      "  \"email_domains\": [\n",
      "    \"accsoft.com.au\"\n",
      "  ],\n",
      "  \"is_organization\": true,\n",
      "  \"name\": \"accsoft.com.au\",\n",
      "  \"resource_type\": \"workspace\"\n",
      "}\n"
     ]
    }
   ],
   "source": [
    "del workspace.data.new_attribute\n",
    "print(f\"After 'new_attribute' is deleted, workspace becomes: {workspace}\")"
   ]
  },
  {
   "cell_type": "markdown",
   "metadata": {},
   "source": [
    "You may also use `list` operations for list attributes. For example, you may append a new item to the `email_domains` list and modify list items individually."
   ]
  },
  {
   "cell_type": "code",
   "execution_count": 17,
   "metadata": {},
   "outputs": [
    {
     "name": "stdout",
     "output_type": "stream",
     "text": [
      "After an email domain is appended, workspace.data.email_domains becomes: ['accsoft.com.au', 'onmyweb.net']\n"
     ]
    }
   ],
   "source": [
    "workspace.data.email_domains.append(\"onmyweb.net\")\n",
    "print(f\"After an email domain is appended, workspace.data.email_domains becomes: {workspace.data.email_domains}\")"
   ]
  },
  {
   "cell_type": "code",
   "execution_count": 18,
   "metadata": {},
   "outputs": [
    {
     "name": "stdout",
     "output_type": "stream",
     "text": [
      "After the second email domain is updated, workspace.data.email_domains becomes: ['accsoft.com.au', 'onmyweb.net.au']\n"
     ]
    }
   ],
   "source": [
    "workspace.data.email_domains[1] = \"onmyweb.net.au\"\n",
    "print(f\"After the second email domain is updated, workspace.data.email_domains becomes: {workspace.data.email_domains}\")"
   ]
  },
  {
   "cell_type": "markdown",
   "metadata": {},
   "source": [
    "You may use Python's slice and negative index as usual."
   ]
  },
  {
   "cell_type": "code",
   "execution_count": 19,
   "metadata": {},
   "outputs": [
    {
     "name": "stdout",
     "output_type": "stream",
     "text": [
      "Last email domain: workspace.data.email_domains[-1]: onmyweb.net.au\n"
     ]
    }
   ],
   "source": [
    "print(f\"Last email domain: workspace.data.email_domains[-1]: {workspace.data.email_domains[-1]}\")"
   ]
  },
  {
   "cell_type": "markdown",
   "metadata": {},
   "source": [
    "Deleting list items can be done in the same way."
   ]
  },
  {
   "cell_type": "code",
   "execution_count": 20,
   "metadata": {},
   "outputs": [
    {
     "name": "stdout",
     "output_type": "stream",
     "text": [
      "\n",
      "After the last email domain is deleted, workspace becomes: {\"gid\": \"1204597085072493\", \"email_domains\": [\"accsoft.com.au\"], \"is_organization\": true, \"name\": \"accsoft.com.au\", \"resource_type\": \"workspace\"}\n"
     ]
    }
   ],
   "source": [
    "del workspace.data.email_domains[-1]\n",
    "print(f\"\\nAfter the last email domain is deleted, workspace becomes: {workspace.data}\")"
   ]
  },
  {
   "cell_type": "markdown",
   "metadata": {},
   "source": [
    "## Resource Objects Are Subscriptable"
   ]
  },
  {
   "cell_type": "markdown",
   "metadata": {},
   "source": [
    "All resource objects are subscriptable, meaning that you can access resource data attributes using a text subscript. This is useful if you want to programmatically determine which attribute to access."
   ]
  },
  {
   "cell_type": "code",
   "execution_count": 21,
   "metadata": {},
   "outputs": [
    {
     "name": "stdout",
     "output_type": "stream",
     "text": [
      "1204597085072493\n",
      "['accsoft.com.au']\n"
     ]
    }
   ],
   "source": [
    "print(workspace[\"$.gid\"])\n",
    "print(workspace[\"$.email_domains\"])"
   ]
  },
  {
   "cell_type": "markdown",
   "metadata": {},
   "source": [
    "Here the `$` symbol represents the resource data `workspace.data` and can be omitted."
   ]
  },
  {
   "cell_type": "code",
   "execution_count": 22,
   "metadata": {},
   "outputs": [
    {
     "name": "stdout",
     "output_type": "stream",
     "text": [
      "1204597085072493\n",
      "['accsoft.com.au']\n"
     ]
    }
   ],
   "source": [
    "# For simplicity, you may omit the \"$.\" prefix in the subscript.\n",
    "print(workspace[\"gid\"])\n",
    "print(workspace[\"email_domains\"])"
   ]
  },
  {
   "cell_type": "code",
   "execution_count": 23,
   "metadata": {},
   "outputs": [
    {
     "name": "stdout",
     "output_type": "stream",
     "text": [
      "{\n",
      "  \"gid\": \"1204597085072493\",\n",
      "  \"email_domains\": [\n",
      "    \"accsoft.com.au\"\n",
      "  ],\n",
      "  \"is_organization\": true,\n",
      "  \"name\": \"accsoft.com.au\",\n",
      "  \"resource_type\": \"workspace\",\n",
      "  \"new_attribute\": \"some value\"\n",
      "}\n"
     ]
    }
   ],
   "source": [
    "workspace[\"$.new_attribute\"] = \"some value\"\n",
    "print(workspace)"
   ]
  },
  {
   "cell_type": "code",
   "execution_count": 24,
   "metadata": {},
   "outputs": [
    {
     "name": "stdout",
     "output_type": "stream",
     "text": [
      "{\n",
      "  \"gid\": \"1204597085072493\",\n",
      "  \"email_domains\": [\n",
      "    \"accsoft.com.au\"\n",
      "  ],\n",
      "  \"is_organization\": true,\n",
      "  \"name\": \"accsoft.com.au\",\n",
      "  \"resource_type\": \"workspace\",\n",
      "  \"new_attribute\": \"new value\"\n",
      "}\n"
     ]
    }
   ],
   "source": [
    "workspace[\"$.new_attribute\"] = \"new value\"\n",
    "print(workspace)"
   ]
  },
  {
   "cell_type": "code",
   "execution_count": 25,
   "metadata": {},
   "outputs": [
    {
     "name": "stdout",
     "output_type": "stream",
     "text": [
      "{\n",
      "  \"gid\": \"1204597085072493\",\n",
      "  \"email_domains\": [\n",
      "    \"accsoft.com.au\"\n",
      "  ],\n",
      "  \"is_organization\": true,\n",
      "  \"name\": \"accsoft.com.au\",\n",
      "  \"resource_type\": \"workspace\"\n",
      "}\n"
     ]
    }
   ],
   "source": [
    "del workspace[\"$.new_attribute\"]\n",
    "print(workspace)"
   ]
  },
  {
   "cell_type": "code",
   "execution_count": 26,
   "metadata": {},
   "outputs": [
    {
     "name": "stdout",
     "output_type": "stream",
     "text": [
      "['accsoft.com.au', 'onmyweb.net']\n"
     ]
    }
   ],
   "source": [
    "workspace[\"$.email_domains\"].append(\"onmyweb.net\")\n",
    "print(workspace[\"email_domains\"])"
   ]
  },
  {
   "cell_type": "code",
   "execution_count": 27,
   "metadata": {},
   "outputs": [
    {
     "name": "stdout",
     "output_type": "stream",
     "text": [
      "['accsoft.com.au', 'onmyweb.net.au']\n"
     ]
    }
   ],
   "source": [
    "workspace[\"$.email_domains[1]\"] = \"onmyweb.net.au\"\n",
    "print(workspace[\"email_domains\"])"
   ]
  },
  {
   "cell_type": "code",
   "execution_count": 28,
   "metadata": {},
   "outputs": [
    {
     "name": "stdout",
     "output_type": "stream",
     "text": [
      "onmyweb.net.au\n"
     ]
    }
   ],
   "source": [
    "print(workspace[\"$.email_domains[-1]\"])"
   ]
  },
  {
   "cell_type": "code",
   "execution_count": 29,
   "metadata": {},
   "outputs": [
    {
     "name": "stdout",
     "output_type": "stream",
     "text": [
      "{\n",
      "  \"gid\": \"1204597085072493\",\n",
      "  \"email_domains\": [\n",
      "    \"accsoft.com.au\"\n",
      "  ],\n",
      "  \"is_organization\": true,\n",
      "  \"name\": \"accsoft.com.au\",\n",
      "  \"resource_type\": \"workspace\"\n",
      "}\n"
     ]
    }
   ],
   "source": [
    "del workspace[\"$.email_domains[-1]\"]\n",
    "print(workspace)"
   ]
  },
  {
   "cell_type": "markdown",
   "metadata": {},
   "source": [
    "## Printing resource objects and their attributes"
   ]
  },
  {
   "cell_type": "markdown",
   "metadata": {},
   "source": [
    "You may notice that `{workspace}` gives you a beautified JSON printout, while `{workspace.data}` prints like the usual dict or list.\n",
    "\n",
    "In fact, the `data` attribute is an `attrDict`, which is a class that implements the attribute notation on a dict or list and therefore is printed like one.\n",
    "\n",
    "You can obtain the original dict or list type value using the `to_data()` functions."
   ]
  },
  {
   "cell_type": "code",
   "execution_count": 30,
   "metadata": {},
   "outputs": [
    {
     "name": "stdout",
     "output_type": "stream",
     "text": [
      "workspace: type <class '__main__.WorkspaceResource'>\n",
      "{\n",
      "  \"gid\": \"1204597085072493\",\n",
      "  \"email_domains\": [\n",
      "    \"accsoft.com.au\"\n",
      "  ],\n",
      "  \"is_organization\": true,\n",
      "  \"name\": \"accsoft.com.au\",\n",
      "  \"resource_type\": \"workspace\"\n",
      "}\n",
      "\n",
      "workspace.data: type <class 'pylapi.attr_dict.AttrDict'>\n",
      "{\"gid\": \"1204597085072493\", \"email_domains\": [\"accsoft.com.au\"], \"is_organization\": true, \"name\": \"accsoft.com.au\", \"resource_type\": \"workspace\"}\n",
      "\n",
      "workspace.data.to_data(): type <class 'dict'>\n",
      "{'gid': '1204597085072493', 'email_domains': ['accsoft.com.au'], 'is_organization': True, 'name': 'accsoft.com.au', 'resource_type': 'workspace'}\n",
      "\n",
      "Since workspace.data.to_data() is a proper dict object, you can use json.dumps() to beautify it.\n",
      "<class 'dict'>\n",
      "{\n",
      "    \"gid\": \"1204597085072493\",\n",
      "    \"email_domains\": [\n",
      "        \"accsoft.com.au\"\n",
      "    ],\n",
      "    \"is_organization\": true,\n",
      "    \"name\": \"accsoft.com.au\",\n",
      "    \"resource_type\": \"workspace\"\n",
      "}\n"
     ]
    }
   ],
   "source": [
    "print(f\"workspace: type {type(workspace)}\")  # <class '__main__.WorkspaceResource'>\n",
    "print(workspace)\n",
    "\n",
    "print(\"\")\n",
    "print(f\"workspace.data: type {type(workspace.data)}\")  # <class 'gapi.common.attr_dict.attrDict'>\n",
    "print(workspace.data)\n",
    "\n",
    "print(\"\")\n",
    "print(f\"workspace.data.to_data(): type {type(workspace.data.to_data())}\")  # <class 'dict'>\n",
    "print(workspace.data.to_data())\n",
    "\n",
    "print(\"\")\n",
    "print(\"Since workspace.data.to_data() is a proper dict object, you can use json.dumps() to beautify it.\")\n",
    "import json\n",
    "print(type(workspace.data.to_data()))\n",
    "print(json.dumps(workspace.data.to_data(), indent=4))\n"
   ]
  },
  {
   "cell_type": "markdown",
   "metadata": {},
   "source": [
    "---\n",
    "In the next tutorial, we will discuss [Search and Modify](./6.%20Search%20and%20Modify.ipynb), including search parameters and API methods to create, update, and delete data records at the backend."
   ]
  },
  {
   "cell_type": "markdown",
   "metadata": {},
   "source": [
    "## End of page"
   ]
  }
 ],
 "metadata": {
  "kernelspec": {
   "display_name": "Python 3",
   "language": "python",
   "name": "python3"
  },
  "language_info": {
   "codemirror_mode": {
    "name": "ipython",
    "version": 3
   },
   "file_extension": ".py",
   "mimetype": "text/x-python",
   "name": "python",
   "nbconvert_exporter": "python",
   "pygments_lexer": "ipython3",
   "version": "3.9.17"
  },
  "orig_nbformat": 4
 },
 "nbformat": 4,
 "nbformat_minor": 2
}
