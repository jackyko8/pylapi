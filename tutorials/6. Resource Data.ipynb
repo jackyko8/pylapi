{
 "cells": [
  {
   "cell_type": "markdown",
   "metadata": {},
   "source": [
    "# 6. Resource Data"
   ]
  },
  {
   "cell_type": "markdown",
   "metadata": {},
   "source": [
    "In our [last tutorial](./5.%20PyLapi%20Generator%20Automation.ipynb), we have generated a custom PyLapi-supported API called `aAPI`.\n",
    "Now we are ready to try it out.\n",
    "If the [./aapi.py](./aapi.py) script is yet to be generated, please run the [last tutorial](./5.%20PyLapi%20Generator%20Automation.ipynb) first."
   ]
  },
  {
   "cell_type": "markdown",
   "metadata": {},
   "source": [
    "---\n",
    "Before trying out the demo, you need to import the newly generated `aAPI`, and authenticate the API with your Asana personal access token, as we did before in the [PyLapi Advanced with Asana](./4.%20PyLapi%20Advanced%20with%20Asana.ipynb) tutorial.\n",
    "\n",
    "IMPORTANT: Please store your Asana personal access token securely without exposing it to any printouts, log messages, or repositories."
   ]
  },
  {
   "cell_type": "code",
   "execution_count": 1,
   "metadata": {},
   "outputs": [],
   "source": [
    "from aapi import aAPI\n",
    "\n",
    "# Authenticate with your Asana personal access token previously saved in `._asecret`\n",
    "aAPI.auth(open(f\"._asecret\", \"r\").readlines()[0].strip())"
   ]
  },
  {
   "cell_type": "markdown",
   "metadata": {},
   "source": [
    "## Loading Resource Data"
   ]
  },
  {
   "cell_type": "markdown",
   "metadata": {},
   "source": [
    "We use the simple `tag` resource in the examples so we can print the full `tag` object without a long printout.\n",
    "\n",
    "First, let us list all the available tags."
   ]
  },
  {
   "cell_type": "code",
   "execution_count": 2,
   "metadata": {},
   "outputs": [
    {
     "name": "stdout",
     "output_type": "stream",
     "text": [
      "1205189493487562 Deliverable\n",
      "1205189493487563 Social\n",
      "1205236784702138 External\n",
      "1205246087901757 PoC\n"
     ]
    }
   ],
   "source": [
    "tag = aAPI.resource(\"tag\")\n",
    "\n",
    "tag_list = tag.list()\n",
    "for _ in tag_list: print(f\"{_['gid']} {_['name']}\")\n",
    "# print(tag_list)"
   ]
  },
  {
   "cell_type": "markdown",
   "metadata": {},
   "source": [
    "Now let us load the resource data of the first `tag` on the list.\n",
    "\n",
    "As we specified `give=\"$.data\"` in the `load()` method, it will return the task resource data."
   ]
  },
  {
   "cell_type": "code",
   "execution_count": 3,
   "metadata": {},
   "outputs": [
    {
     "name": "stdout",
     "output_type": "stream",
     "text": [
      "{'gid': '1205189493487562', 'color': 'dark-orange', 'created_at': '2023-08-04T22:47:56.631Z', 'followers': [], 'name': 'Deliverable', 'notes': '', 'permalink_url': 'https://app.asana.com/0/1205189493487562/1205189493487562', 'resource_type': 'tag', 'workspace': {'gid': '1204597085072493', 'name': 'accsoft.com.au', 'resource_type': 'workspace'}}\n"
     ]
    }
   ],
   "source": [
    "# Load the first tag\n",
    "tag_gid = tag_list[0][\"gid\"]\n",
    "print(tag.load(tag_gid))"
   ]
  },
  {
   "cell_type": "markdown",
   "metadata": {},
   "source": [
    "We have also specified `load=\"$.data\"`, so the `load()` method stores the resource data in the resource object, which is \"pretty\" in its printout."
   ]
  },
  {
   "cell_type": "code",
   "execution_count": 4,
   "metadata": {},
   "outputs": [
    {
     "name": "stdout",
     "output_type": "stream",
     "text": [
      "{\n",
      "  \"gid\": \"1205189493487562\",\n",
      "  \"color\": \"dark-orange\",\n",
      "  \"created_at\": \"2023-08-04T22:47:56.631Z\",\n",
      "  \"followers\": [],\n",
      "  \"name\": \"Deliverable\",\n",
      "  \"notes\": \"\",\n",
      "  \"permalink_url\": \"https://app.asana.com/0/1205189493487562/1205189493487562\",\n",
      "  \"resource_type\": \"tag\",\n",
      "  \"workspace\": {\n",
      "    \"gid\": \"1204597085072493\",\n",
      "    \"name\": \"accsoft.com.au\",\n",
      "    \"resource_type\": \"workspace\"\n",
      "  }\n",
      "}\n"
     ]
    }
   ],
   "source": [
    "print(tag)"
   ]
  },
  {
   "cell_type": "markdown",
   "metadata": {},
   "source": [
    "To understand why we need to have `$.data` instead of just `$`, let us examine the \"raw\" response from the API before any PyLapi processing."
   ]
  },
  {
   "cell_type": "code",
   "execution_count": 5,
   "metadata": {},
   "outputs": [
    {
     "name": "stdout",
     "output_type": "stream",
     "text": [
      "{\n",
      "  \"data\": {\n",
      "    \"gid\": \"1205189493487562\",\n",
      "    \"color\": \"dark-orange\",\n",
      "    \"created_at\": \"2023-08-04T22:47:56.631Z\",\n",
      "    \"followers\": [],\n",
      "    \"name\": \"Deliverable\",\n",
      "    \"notes\": \"\",\n",
      "    \"permalink_url\": \"https://app.asana.com/0/1205189493487562/1205189493487562\",\n",
      "    \"resource_type\": \"tag\",\n",
      "    \"workspace\": {\n",
      "      \"gid\": \"1204597085072493\",\n",
      "      \"name\": \"accsoft.com.au\",\n",
      "      \"resource_type\": \"workspace\"\n",
      "    }\n",
      "  }\n",
      "}\n"
     ]
    }
   ],
   "source": [
    "import json\n",
    "print(json.dumps(tag.raw_response, indent=2))"
   ]
  },
  {
   "cell_type": "markdown",
   "metadata": {},
   "source": [
    "From the above, you can tell that `$.data` is what we expect the method to return (\"give\") and to store in the object (\"load\")."
   ]
  },
  {
   "cell_type": "markdown",
   "metadata": {},
   "source": [
    "---\n",
    "The next exercise is to get the workspace resource data.\n",
    "The workspace's gid (Global ID) can be found in `tag.data.workspace.gid`."
   ]
  },
  {
   "cell_type": "code",
   "execution_count": 6,
   "metadata": {},
   "outputs": [
    {
     "name": "stdout",
     "output_type": "stream",
     "text": [
      "1204597085072493\n"
     ]
    }
   ],
   "source": [
    "workspace_gid = tag.data.workspace.gid\n",
    "print(workspace_gid)"
   ]
  },
  {
   "cell_type": "markdown",
   "metadata": {},
   "source": [
    "We instantiate the `workspace` resource object and load its resource data."
   ]
  },
  {
   "cell_type": "code",
   "execution_count": 7,
   "metadata": {},
   "outputs": [
    {
     "name": "stdout",
     "output_type": "stream",
     "text": [
      "{\n",
      "  \"gid\": \"1204597085072493\",\n",
      "  \"email_domains\": [\n",
      "    \"accsoft.com.au\"\n",
      "  ],\n",
      "  \"is_organization\": true,\n",
      "  \"name\": \"accsoft.com.au\",\n",
      "  \"resource_type\": \"workspace\"\n",
      "}\n"
     ]
    }
   ],
   "source": [
    "workspace = aAPI.resource(\"workspace\")\n",
    "workspace.load(workspace_gid)\n",
    "print(workspace)"
   ]
  },
  {
   "cell_type": "markdown",
   "metadata": {},
   "source": [
    "---\n",
    "In the next tutorial, we will discuss [Search and Modify](./6.%20Search%20and%20Modify.ipynb), including search parameters and API methods to create, update, and delete data records at the backend."
   ]
  },
  {
   "cell_type": "markdown",
   "metadata": {},
   "source": [
    "## End of page"
   ]
  }
 ],
 "metadata": {
  "kernelspec": {
   "display_name": "Python 3",
   "language": "python",
   "name": "python3"
  },
  "language_info": {
   "codemirror_mode": {
    "name": "ipython",
    "version": 3
   },
   "file_extension": ".py",
   "mimetype": "text/x-python",
   "name": "python",
   "nbconvert_exporter": "python",
   "pygments_lexer": "ipython3",
   "version": "3.9.17"
  },
  "orig_nbformat": 4
 },
 "nbformat": 4,
 "nbformat_minor": 2
}
