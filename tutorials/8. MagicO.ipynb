{
 "cells": [
  {
   "cell_type": "markdown",
   "metadata": {},
   "source": [
    "# 8. MagicO"
   ]
  },
  {
   "cell_type": "markdown",
   "metadata": {},
   "source": [
    "`PyLapi` resource data functionalities are implemented using ta utility class, `MagicO` under the hood, to enable the resource object's `.data` attribute notation and the resource object itself to be subscriptable using a dynamic path.\n",
    "\n",
    "In this tutorial, we explain `MagicO` in detail and how to use them efficiently."
   ]
  },
  {
   "cell_type": "markdown",
   "metadata": {},
   "source": [
    "---\n",
    "Let us define the following `dict` object as an example."
   ]
  },
  {
   "cell_type": "code",
   "execution_count": 1,
   "metadata": {},
   "outputs": [],
   "source": [
    "my_dict = {\n",
    "    \"a\": 1,\n",
    "    \"b\": {\n",
    "        \"c\": 3,\n",
    "        \"d\": 4\n",
    "    },\n",
    "    \"e\": [\n",
    "        {\"f\": 6},\n",
    "        \"xyz\"\n",
    "    ]\n",
    "}"
   ]
  },
  {
   "cell_type": "markdown",
   "metadata": {},
   "source": [
    "To access the attribute \"f\", you need to use a series of subscripts, like this:"
   ]
  },
  {
   "cell_type": "code",
   "execution_count": 2,
   "metadata": {},
   "outputs": [
    {
     "name": "stdout",
     "output_type": "stream",
     "text": [
      "6\n"
     ]
    }
   ],
   "source": [
    "print(my_dict[\"e\"][0][\"f\"])"
   ]
  },
  {
   "cell_type": "markdown",
   "metadata": {},
   "source": [
    "## MagicO"
   ]
  },
  {
   "cell_type": "markdown",
   "metadata": {},
   "source": [
    "As a programmer, you would find it more natural to access a dict object attribute using syntax like this: `my_dict.e[0].f`. This is what `MagicO` can do for you."
   ]
  },
  {
   "cell_type": "code",
   "execution_count": 3,
   "metadata": {},
   "outputs": [
    {
     "name": "stdout",
     "output_type": "stream",
     "text": [
      "6\n"
     ]
    }
   ],
   "source": [
    "from pylapi import MagicO\n",
    "\n",
    "my_magic = MagicO(my_dict)\n",
    "print(my_magic.e[0].f)"
   ]
  },
  {
   "cell_type": "markdown",
   "metadata": {},
   "source": [
    "You may create new attributes, change them, and delete them using the attribute notation."
   ]
  },
  {
   "cell_type": "code",
   "execution_count": 4,
   "metadata": {},
   "outputs": [
    {
     "name": "stdout",
     "output_type": "stream",
     "text": [
      "{\"a\": 1, \"b\": {\"c\": 3, \"d\": 4}, \"e\": [{\"f\": 6}, \"xyz\"]}\n",
      "{\"a\": 1, \"b\": {\"c\": 3, \"d\": 4, \"g\": 7}, \"e\": [{\"f\": 6}, \"xyz\"]}\n",
      "{\"a\": 1, \"b\": {\"c\": 3, \"d\": 4, \"g\": 8}, \"e\": [{\"f\": 6}, \"xyz\"]}\n",
      "{\"a\": 1, \"b\": {\"c\": 3, \"d\": 4}, \"e\": [{\"f\": 6}, \"xyz\"]}\n"
     ]
    }
   ],
   "source": [
    "print(my_magic) # original data\n",
    "my_magic.b.g = 7\n",
    "print(my_magic) # b.g is created\n",
    "my_magic.b.g = 8\n",
    "print(my_magic) # b.g is updated\n",
    "del my_magic.b.g\n",
    "print(my_magic) # b.g is deleted"
   ]
  },
  {
   "cell_type": "markdown",
   "metadata": {},
   "source": [
    "Please note that in order to maintain the \"attribute chain\", each \"non-leaf\" node of an `MagicO` is itself an `MagicO` (while a leaf node is returned as is). But you can use the `MagicO.to_data()` method to obtain the underlying data object.\n",
    "\n",
    "For example:"
   ]
  },
  {
   "cell_type": "code",
   "execution_count": 5,
   "metadata": {},
   "outputs": [
    {
     "name": "stdout",
     "output_type": "stream",
     "text": [
      "<class 'pylapi.magico.MagicO'>\n",
      "<class 'dict'>\n"
     ]
    }
   ],
   "source": [
    "print(type(my_magic.e[0])) # <class 'pylapi.attr_dict.MagicO'>\n",
    "print(type(my_magic.e[0].to_data())) # <class 'dict'>"
   ]
  },
  {
   "cell_type": "markdown",
   "metadata": {},
   "source": [
    "`MagicO.to_data()` returns a pointer to the original data that you created the `MagicO` with. Updates to the pointer will affect the original data in `my_dict` as well.\n",
    "Basically, `MagicO` is a wrapper for the original data you created it with.\n",
    "They all share the same storage."
   ]
  },
  {
   "cell_type": "code",
   "execution_count": 6,
   "metadata": {},
   "outputs": [
    {
     "name": "stdout",
     "output_type": "stream",
     "text": [
      "{'a': 1, 'b': {'c': 3, 'd': 4}, 'e': [{'f': 6}, 'xyz']}\n",
      "{'a': 1, 'b': {'c': 3, 'd': 4}, 'e': [{'f': 6}, 'abc']}\n",
      "{'a': 1, 'b': {'c': 3, 'd': 4}, 'e': [{'f': 6}, 'xyz']}\n"
     ]
    }
   ],
   "source": [
    "print(my_dict) # Original: {..., 'e': [{'f': 6}, 'xyz']}\n",
    "my_attr_data = my_magic.to_data()\n",
    "\n",
    "# Update the data object\n",
    "my_attr_data[\"e\"][1] = \"abc\"\n",
    "print(my_dict) # Output: {..., 'e': [{'f': 6}, 'abc']}\n",
    "\n",
    "# Update the MagicO object\n",
    "my_magic.e[1] = \"xyz\"\n",
    "print(my_dict) # Output: {..., 'e': [{'f': 6}, 'xyz']}"
   ]
  },
  {
   "cell_type": "markdown",
   "metadata": {},
   "source": [
    "`MagicO` also works with list objects and supports all list behaviours. For example:"
   ]
  },
  {
   "cell_type": "code",
   "execution_count": 7,
   "metadata": {},
   "outputs": [
    {
     "name": "stdout",
     "output_type": "stream",
     "text": [
      "2\n",
      "[{'b': 2}, 'c']\n",
      "['a', {'b': 2}, 'c', 'd']\n"
     ]
    }
   ],
   "source": [
    "my_attr_list = MagicO([\"a\", {\"b\": 2}, \"c\"])\n",
    "print(my_attr_list[-2].b) # 2\n",
    "print(my_attr_list[1:]) # [{'b': 2}, 'c']\n",
    "my_attr_list.append(\"d\")\n",
    "print(my_attr_list) # ['a', {'b': 2}, 'c', 'd']"
   ]
  },
  {
   "cell_type": "markdown",
   "metadata": {},
   "source": [
    "In `PyLapi`, the resource object's `.data` attribute is an `MagicO`, so you can access the resource data using the attribute notation, e.g., `workspace.data.email_domains[1]`."
   ]
  },
  {
   "cell_type": "markdown",
   "metadata": {},
   "source": [
    "## MagicO"
   ]
  },
  {
   "cell_type": "markdown",
   "metadata": {},
   "source": [
    "There are times when the attribute to access is dynamically determined, e.g., \"$.e[0].f\" as formulated by the code.\n",
    "This is where a `MagicO` can be useful."
   ]
  },
  {
   "cell_type": "code",
   "execution_count": 8,
   "metadata": {},
   "outputs": [
    {
     "name": "stdout",
     "output_type": "stream",
     "text": [
      "6\n"
     ]
    }
   ],
   "source": [
    "from pylapi import MagicO\n",
    "\n",
    "my_magic = MagicO(my_dict)\n",
    "print(my_magic[\"$.e[0].f\"])"
   ]
  },
  {
   "cell_type": "markdown",
   "metadata": {},
   "source": [
    "You may create new attributes, change them, and delete them as you would naturally do."
   ]
  },
  {
   "cell_type": "code",
   "execution_count": 9,
   "metadata": {},
   "outputs": [
    {
     "name": "stdout",
     "output_type": "stream",
     "text": [
      "{\"a\": 1, \"b\": {\"c\": 3, \"d\": 4}, \"e\": [{\"f\": 6}, \"xyz\"]}\n",
      "{\"a\": 1, \"b\": {\"c\": 3, \"d\": 4, \"g\": 7}, \"e\": [{\"f\": 6}, \"xyz\"]}\n",
      "{\"a\": 1, \"b\": {\"c\": 3, \"d\": 4, \"g\": 8}, \"e\": [{\"f\": 6}, \"xyz\"]}\n",
      "{\"a\": 1, \"b\": {\"c\": 3, \"d\": 4}, \"e\": [{\"f\": 6}, \"xyz\"]}\n"
     ]
    }
   ],
   "source": [
    "print(my_magic) # original data\n",
    "my_magic[\"$.b.g\"] = 7\n",
    "print(my_magic) # g is created under b\n",
    "my_magic[\"$.b.g\"] = 8\n",
    "print(my_magic) # g is updated\n",
    "del my_magic[\"$.b.g\"]\n",
    "print(my_magic) # b.g is deleted"
   ]
  },
  {
   "cell_type": "markdown",
   "metadata": {},
   "source": [
    "One feature unique to `MagicO` is deep attribute creation: If you assign a new sub-attribute, all missing parent attributes along the path will be created automatically. For example:"
   ]
  },
  {
   "cell_type": "code",
   "execution_count": 10,
   "metadata": {},
   "outputs": [
    {
     "name": "stdout",
     "output_type": "stream",
     "text": [
      "{'a': 1, 'b': {'c': 3, 'd': 4, 'g': {'h': {'i': 9}}}, 'e': [{'f': 6}, 'xyz']}\n",
      "{'a': 1, 'b': {'c': 3, 'd': 4}, 'e': [{'f': 6}, 'xyz']}\n"
     ]
    }
   ],
   "source": [
    "my_magic[\"$.b.g.h.i\"] = 9\n",
    "print(my_dict) # Attribute \"b\" is appended with \"g.h\" to get to \"i\"\n",
    "del my_magic[\"$.b.g\"] # Deleting the parent will delete its tree\n",
    "print(my_dict) # Attribute \"b.g\" is deleted"
   ]
  },
  {
   "cell_type": "markdown",
   "metadata": {},
   "source": [
    "The symbol `$` represents the `.data` attribute, which can be omitted. In the above example, you may write `my_magic[\"e[0].f\"]`. (IMHO, including the `$.` prefix is syntactically more pleasing.)\n",
    "\n",
    "Unlike an MagicO, a `MagicO` resolves the node before returning, whether it is a leaf node or not."
   ]
  },
  {
   "cell_type": "code",
   "execution_count": 11,
   "metadata": {},
   "outputs": [
    {
     "name": "stdout",
     "output_type": "stream",
     "text": [
      "<class 'dict'>\n",
      "<class 'int'>\n"
     ]
    }
   ],
   "source": [
    "print(type(my_magic[\"$.e[0]\"])) # <class 'pylapi.magic_dict.MagicO'>\n",
    "print(type(my_magic[\"$.e[0].f\"])) # <class 'int'>"
   ]
  },
  {
   "cell_type": "markdown",
   "metadata": {},
   "source": [
    "For the `MagicO` itself, you can use the `MagicO.to_data()` to obtain the underlying object."
   ]
  },
  {
   "cell_type": "code",
   "execution_count": 12,
   "metadata": {},
   "outputs": [
    {
     "name": "stdout",
     "output_type": "stream",
     "text": [
      "<class 'pylapi.magico.MagicO'>\n",
      "<class 'dict'>\n"
     ]
    }
   ],
   "source": [
    "print(type(my_magic)) # <class 'pylapi.path_dict.MagicO'>\n",
    "print(type(my_magic.to_data())) # <class 'dict'>"
   ]
  },
  {
   "cell_type": "markdown",
   "metadata": {},
   "source": [
    "`MagicO.to_data()` returns a pointer to the original data that you created the `MagicO` with. Your updates will affect the original data `my_dict` as well.\n",
    "Basically, `MagicO` is a wrapper to the original data you created it with.\n",
    "They all share the same storage."
   ]
  },
  {
   "cell_type": "code",
   "execution_count": 13,
   "metadata": {},
   "outputs": [
    {
     "name": "stdout",
     "output_type": "stream",
     "text": [
      "{\"a\": 1, \"b\": {\"c\": 3, \"d\": 4}, \"e\": [{\"f\": 6}, \"xyz\"]}\n",
      "{'a': 1, 'b': {'c': 3, 'd': 4}, 'e': [{'f': 6}, 'abc']}\n",
      "{'a': 1, 'b': {'c': 3, 'd': 4}, 'e': [{'f': 6}, 'xyz']}\n"
     ]
    }
   ],
   "source": [
    "print(my_magic) # Original: {..., 'e': [{'f': 6}, 'xyz']}\n",
    "my_path_data = my_magic.to_data()\n",
    "\n",
    "# Update the data object\n",
    "my_path_data[\"e\"][1] = \"abc\"\n",
    "print(my_dict) # Output: {..., 'e': [{'f': 6}, 'abc']}\n",
    "\n",
    "# Update the MagicO object\n",
    "my_magic[\"e[1]\"] = \"xyz\"\n",
    "print(my_dict) # Output: {..., 'e': [{'f': 6}, 'xyz']}"
   ]
  },
  {
   "cell_type": "markdown",
   "metadata": {},
   "source": [
    "`MagicO` works with list objects as well and supports all list behaviours. For example:"
   ]
  },
  {
   "cell_type": "code",
   "execution_count": 14,
   "metadata": {},
   "outputs": [
    {
     "name": "stdout",
     "output_type": "stream",
     "text": [
      "2\n",
      "[{'b': 2}, 'c']\n",
      "['a', {'b': 2}, 'c', 'd']\n"
     ]
    }
   ],
   "source": [
    "my_path_list = MagicO([\"a\", {\"b\": 2}, \"c\"])\n",
    "print(my_path_list[\"$[-2].b\"]) # 2\n",
    "print(my_path_list[\"$[1:]\"]) # [{'b': 2}, 'c']\n",
    "my_path_list.append(\"d\")\n",
    "print(my_path_list) # ['a', {'b': 2}, 'c', 'd']"
   ]
  },
  {
   "cell_type": "markdown",
   "metadata": {},
   "source": [
    "In `PyLapi`, the resource object itself \"looks like\" a `MagicO`, so you can access the resource data using the subscript notation, e.g., `workspace[\"$.email_domains[1]\"]`."
   ]
  },
  {
   "cell_type": "markdown",
   "metadata": {},
   "source": [
    "## Manipulating resource objects \"naturally\""
   ]
  },
  {
   "cell_type": "markdown",
   "metadata": {},
   "source": [
    "Let us load some resource data and see how the `.data` attribute behaves like an `MagicO` and the resource object itself behaves like a `MagicO`.\n",
    "\n",
    "First, let us quickly load some workspace resource data into a `workspace` resource object, then print to verify. (The string representation of a resource object is in a beautified JSON format.)"
   ]
  },
  {
   "cell_type": "code",
   "execution_count": 15,
   "metadata": {},
   "outputs": [
    {
     "name": "stdout",
     "output_type": "stream",
     "text": [
      "{\n",
      "  \"gid\": \"1204597085072493\",\n",
      "  \"email_domains\": [\n",
      "    \"accsoft.com.au\"\n",
      "  ],\n",
      "  \"is_organization\": true,\n",
      "  \"name\": \"accsoft.com.au\",\n",
      "  \"resource_type\": \"workspace\"\n",
      "}\n"
     ]
    }
   ],
   "source": [
    "from aapi import aAPI\n",
    "aAPI.auth(open(f\"._asecret\", \"r\").readlines()[0].strip())\n",
    "workspace = aAPI.resource(\"workspace\")\n",
    "workspace.load(workspace.list()[0][\"gid\"])\n",
    "print(workspace)"
   ]
  },
  {
   "cell_type": "markdown",
   "metadata": {},
   "source": [
    "Since `workspace.data` is an `MagicO`, you can manipulate it using the attribute notation.\n",
    "\n",
    "Also, the `@aAPI.resource_class` decorate has a resource mapping `gid=\"$.gid\"` specified, so `workspace.gid` is mapped to `workspace.data.gid`. They share the same storage."
   ]
  },
  {
   "cell_type": "code",
   "execution_count": 16,
   "metadata": {},
   "outputs": [
    {
     "name": "stdout",
     "output_type": "stream",
     "text": [
      "Workspace resource data:\n",
      "{\n",
      "  \"gid\": \"1204597085072493\",\n",
      "  \"email_domains\": [\n",
      "    \"accsoft.com.au\"\n",
      "  ],\n",
      "  \"is_organization\": true,\n",
      "  \"name\": \"accsoft.com.au\",\n",
      "  \"resource_type\": \"workspace\"\n",
      "}\n",
      "workspace.data.gid: 1204597085072493\n",
      "workspace.data.email_domains: ['accsoft.com.au']\n",
      "workspace.gid: 1204597085072493\n"
     ]
    }
   ],
   "source": [
    "print(f\"Workspace resource data:\\n{workspace}\")\n",
    "print(f\"workspace.data.gid: {workspace.data.gid}\")\n",
    "print(f\"workspace.data.email_domains: {workspace.data.email_domains}\")\n",
    "print(f\"workspace.gid: {workspace.gid}\") # Mapped to workspace.data.gid"
   ]
  },
  {
   "cell_type": "markdown",
   "metadata": {},
   "source": [
    "---\n",
    "Please note that all changes illustrated in this tutorial happen locally in the resource object and will not affect any data entity stored on the backend.\n",
    "To update the backend data, please see the [Search and Modify](./6.%20Search%20and%20Modify.ipynb) tutorial.\n",
    "\n",
    "To add a new attribute to the resource data, you simply assign a value to the attribute under `workspace.data`."
   ]
  },
  {
   "cell_type": "code",
   "execution_count": 17,
   "metadata": {},
   "outputs": [
    {
     "name": "stdout",
     "output_type": "stream",
     "text": [
      "After 'new_attribute' is added, workspace becomes: {\n",
      "  \"gid\": \"1204597085072493\",\n",
      "  \"email_domains\": [\n",
      "    \"accsoft.com.au\"\n",
      "  ],\n",
      "  \"is_organization\": true,\n",
      "  \"name\": \"accsoft.com.au\",\n",
      "  \"resource_type\": \"workspace\",\n",
      "  \"new_attribute\": \"some value\"\n",
      "}\n"
     ]
    }
   ],
   "source": [
    "workspace.data.new_attribute = \"some value\"\n",
    "print(f\"After 'new_attribute' is added, workspace becomes: {workspace}\")"
   ]
  },
  {
   "cell_type": "markdown",
   "metadata": {},
   "source": [
    "You can assign a new value to the attribute to update it."
   ]
  },
  {
   "cell_type": "code",
   "execution_count": 18,
   "metadata": {},
   "outputs": [
    {
     "name": "stdout",
     "output_type": "stream",
     "text": [
      "After 'new_attribute' is updated, workspace becomes: {\n",
      "  \"gid\": \"1204597085072493\",\n",
      "  \"email_domains\": [\n",
      "    \"accsoft.com.au\"\n",
      "  ],\n",
      "  \"is_organization\": true,\n",
      "  \"name\": \"accsoft.com.au\",\n",
      "  \"resource_type\": \"workspace\",\n",
      "  \"new_attribute\": \"new value\"\n",
      "}\n"
     ]
    }
   ],
   "source": [
    "workspace.data.new_attribute = \"new value\"\n",
    "print(f\"After 'new_attribute' is updated, workspace becomes: {workspace}\")"
   ]
  },
  {
   "cell_type": "markdown",
   "metadata": {},
   "source": [
    "To delete an attribute, simply use the `del` command."
   ]
  },
  {
   "cell_type": "code",
   "execution_count": 19,
   "metadata": {},
   "outputs": [
    {
     "name": "stdout",
     "output_type": "stream",
     "text": [
      "After 'new_attribute' is deleted, workspace becomes: {\n",
      "  \"gid\": \"1204597085072493\",\n",
      "  \"email_domains\": [\n",
      "    \"accsoft.com.au\"\n",
      "  ],\n",
      "  \"is_organization\": true,\n",
      "  \"name\": \"accsoft.com.au\",\n",
      "  \"resource_type\": \"workspace\"\n",
      "}\n"
     ]
    }
   ],
   "source": [
    "del workspace.data.new_attribute\n",
    "print(f\"After 'new_attribute' is deleted, workspace becomes: {workspace}\")"
   ]
  },
  {
   "cell_type": "markdown",
   "metadata": {},
   "source": [
    "You may also use `list` operations for list attributes. For example, you may append a new item to the `email_domains` list and modify list items individually."
   ]
  },
  {
   "cell_type": "code",
   "execution_count": 20,
   "metadata": {},
   "outputs": [
    {
     "name": "stdout",
     "output_type": "stream",
     "text": [
      "After an email domain is appended, workspace.data.email_domains becomes: ['accsoft.com.au', 'onmyweb.net']\n"
     ]
    }
   ],
   "source": [
    "workspace.data.email_domains.append(\"onmyweb.net\")\n",
    "print(f\"After an email domain is appended, workspace.data.email_domains becomes: {workspace.data.email_domains}\")"
   ]
  },
  {
   "cell_type": "code",
   "execution_count": 21,
   "metadata": {},
   "outputs": [
    {
     "name": "stdout",
     "output_type": "stream",
     "text": [
      "After the second email domain is updated, workspace.data.email_domains becomes: ['accsoft.com.au', 'onmyweb.net.au']\n"
     ]
    }
   ],
   "source": [
    "workspace.data.email_domains[1] = \"onmyweb.net.au\"\n",
    "print(f\"After the second email domain is updated, workspace.data.email_domains becomes: {workspace.data.email_domains}\")"
   ]
  },
  {
   "cell_type": "markdown",
   "metadata": {},
   "source": [
    "You may use Python's slice and negative index as usual."
   ]
  },
  {
   "cell_type": "code",
   "execution_count": 22,
   "metadata": {},
   "outputs": [
    {
     "name": "stdout",
     "output_type": "stream",
     "text": [
      "Last email domain: workspace.data.email_domains[-1]: onmyweb.net.au\n"
     ]
    }
   ],
   "source": [
    "print(f\"Last email domain: workspace.data.email_domains[-1]: {workspace.data.email_domains[-1]}\")"
   ]
  },
  {
   "cell_type": "markdown",
   "metadata": {},
   "source": [
    "Deleting list items can be done in the same way."
   ]
  },
  {
   "cell_type": "code",
   "execution_count": 23,
   "metadata": {},
   "outputs": [
    {
     "name": "stdout",
     "output_type": "stream",
     "text": [
      "\n",
      "After the last email domain is deleted, workspace becomes: {\"gid\": \"1204597085072493\", \"email_domains\": [\"accsoft.com.au\"], \"is_organization\": true, \"name\": \"accsoft.com.au\", \"resource_type\": \"workspace\"}\n"
     ]
    }
   ],
   "source": [
    "del workspace.data.email_domains[-1]\n",
    "print(f\"\\nAfter the last email domain is deleted, workspace becomes: {workspace.data}\")"
   ]
  },
  {
   "cell_type": "markdown",
   "metadata": {},
   "source": [
    "## Subscriptable resource objects"
   ]
  },
  {
   "cell_type": "markdown",
   "metadata": {},
   "source": [
    "Resource objects behave like a `MagicO` and therefore are subscriptable. This is useful if you want to programmatically determine which attribute to access."
   ]
  },
  {
   "cell_type": "code",
   "execution_count": 24,
   "metadata": {},
   "outputs": [
    {
     "name": "stdout",
     "output_type": "stream",
     "text": [
      "1204597085072493\n",
      "['accsoft.com.au']\n"
     ]
    }
   ],
   "source": [
    "print(workspace[\"$.gid\"])\n",
    "print(workspace[\"$.email_domains\"])"
   ]
  },
  {
   "cell_type": "markdown",
   "metadata": {},
   "source": [
    "Here the `$` symbol represents the resource data `workspace.data` and can be omitted."
   ]
  },
  {
   "cell_type": "code",
   "execution_count": 25,
   "metadata": {},
   "outputs": [
    {
     "name": "stdout",
     "output_type": "stream",
     "text": [
      "1204597085072493\n",
      "['accsoft.com.au']\n"
     ]
    }
   ],
   "source": [
    "# For simplicity, you may omit the \"$.\" prefix in the subscript.\n",
    "print(workspace[\"gid\"])\n",
    "print(workspace[\"email_domains\"])"
   ]
  },
  {
   "cell_type": "code",
   "execution_count": 26,
   "metadata": {},
   "outputs": [
    {
     "name": "stdout",
     "output_type": "stream",
     "text": [
      "{\n",
      "  \"gid\": \"1204597085072493\",\n",
      "  \"email_domains\": [\n",
      "    \"accsoft.com.au\"\n",
      "  ],\n",
      "  \"is_organization\": true,\n",
      "  \"name\": \"accsoft.com.au\",\n",
      "  \"resource_type\": \"workspace\",\n",
      "  \"new_attribute\": \"some value\"\n",
      "}\n"
     ]
    }
   ],
   "source": [
    "workspace[\"$.new_attribute\"] = \"some value\"\n",
    "print(workspace)"
   ]
  },
  {
   "cell_type": "code",
   "execution_count": 27,
   "metadata": {},
   "outputs": [
    {
     "name": "stdout",
     "output_type": "stream",
     "text": [
      "{\n",
      "  \"gid\": \"1204597085072493\",\n",
      "  \"email_domains\": [\n",
      "    \"accsoft.com.au\"\n",
      "  ],\n",
      "  \"is_organization\": true,\n",
      "  \"name\": \"accsoft.com.au\",\n",
      "  \"resource_type\": \"workspace\",\n",
      "  \"new_attribute\": \"new value\"\n",
      "}\n"
     ]
    }
   ],
   "source": [
    "workspace[\"$.new_attribute\"] = \"new value\"\n",
    "print(workspace)"
   ]
  },
  {
   "cell_type": "code",
   "execution_count": 28,
   "metadata": {},
   "outputs": [
    {
     "name": "stdout",
     "output_type": "stream",
     "text": [
      "{\n",
      "  \"gid\": \"1204597085072493\",\n",
      "  \"email_domains\": [\n",
      "    \"accsoft.com.au\"\n",
      "  ],\n",
      "  \"is_organization\": true,\n",
      "  \"name\": \"accsoft.com.au\",\n",
      "  \"resource_type\": \"workspace\"\n",
      "}\n"
     ]
    }
   ],
   "source": [
    "del workspace[\"$.new_attribute\"]\n",
    "print(workspace)"
   ]
  },
  {
   "cell_type": "code",
   "execution_count": 29,
   "metadata": {},
   "outputs": [
    {
     "name": "stdout",
     "output_type": "stream",
     "text": [
      "['accsoft.com.au', 'onmyweb.net']\n"
     ]
    }
   ],
   "source": [
    "workspace[\"$.email_domains\"].append(\"onmyweb.net\")\n",
    "print(workspace[\"email_domains\"])"
   ]
  },
  {
   "cell_type": "code",
   "execution_count": 30,
   "metadata": {},
   "outputs": [
    {
     "name": "stdout",
     "output_type": "stream",
     "text": [
      "['accsoft.com.au', 'onmyweb.net.au']\n"
     ]
    }
   ],
   "source": [
    "workspace[\"$.email_domains[1]\"] = \"onmyweb.net.au\"\n",
    "print(workspace[\"email_domains\"])"
   ]
  },
  {
   "cell_type": "code",
   "execution_count": 31,
   "metadata": {},
   "outputs": [
    {
     "name": "stdout",
     "output_type": "stream",
     "text": [
      "onmyweb.net.au\n"
     ]
    }
   ],
   "source": [
    "print(workspace[\"$.email_domains[-1]\"])"
   ]
  },
  {
   "cell_type": "code",
   "execution_count": 32,
   "metadata": {},
   "outputs": [
    {
     "name": "stdout",
     "output_type": "stream",
     "text": [
      "{\n",
      "  \"gid\": \"1204597085072493\",\n",
      "  \"email_domains\": [\n",
      "    \"accsoft.com.au\"\n",
      "  ],\n",
      "  \"is_organization\": true,\n",
      "  \"name\": \"accsoft.com.au\",\n",
      "  \"resource_type\": \"workspace\"\n",
      "}\n"
     ]
    }
   ],
   "source": [
    "del workspace[\"$.email_domains[-1]\"]\n",
    "print(workspace)"
   ]
  },
  {
   "cell_type": "markdown",
   "metadata": {},
   "source": [
    "## More on data types"
   ]
  },
  {
   "cell_type": "markdown",
   "metadata": {},
   "source": [
    "The data type of the resource data depends on how you access them.\n",
    "In most cases, you just use them naturally via the `.data` attribute or the path subscript,\n",
    "but it is always good to be aware of the data types being passed around."
   ]
  },
  {
   "cell_type": "code",
   "execution_count": 33,
   "metadata": {},
   "outputs": [
    {
     "name": "stdout",
     "output_type": "stream",
     "text": [
      "<class 'aapi.WorkspaceResource'>\n",
      "<class 'pylapi.magico.MagicO'>\n",
      "<class 'pylapi.magico.MagicO'>\n",
      "<class 'dict'>\n",
      "<class 'dict'>\n",
      "<class 'list'>\n"
     ]
    }
   ],
   "source": [
    "print(type(workspace)) # <class 'aapi.WorkspaceResource'>\n",
    "\n",
    "print(type(workspace.data)) # <class 'pylapi.attr_dict.MagicO'>\n",
    "print(type(workspace.data.email_domains)) # <class 'pylapi.attr_dict.MagicO'>\n",
    "print(type(workspace.data.to_data())) # <class 'dict'>\n",
    "\n",
    "print(type(workspace[\"$\"])) # <class 'dict'>\n",
    "print(type(workspace[\"$.email_domains\"])) # <class 'list'>"
   ]
  },
  {
   "cell_type": "markdown",
   "metadata": {},
   "source": [
    "While a resource object behaves like a `MagicO`, it is *not* a `MagicO`, and it does *not* support `dict` and `list` operations.\n",
    "\n",
    "By design, the subscriptable resource object is at arm's length from the internal resource data to protect it from accidental change.\n",
    "If you want to obtain a pointer to the resource data, use `.resource_data` or its functional equivalent, `.data.to_data()`."
   ]
  },
  {
   "cell_type": "code",
   "execution_count": 34,
   "metadata": {},
   "outputs": [
    {
     "name": "stdout",
     "output_type": "stream",
     "text": [
      "True\n",
      "False\n",
      "True\n"
     ]
    }
   ],
   "source": [
    "# Working on a deep copy of the resource data\n",
    "workspace_data = workspace[\"$\"]\n",
    "workspace_data[\"is_organization\"] = False # NOT updating the resource data\n",
    "print(workspace[\"is_organization\"]) # True\n",
    "workspace[\"$.is_organization\"] = False\n",
    "print(workspace[\"$.is_organization\"]) # False\n",
    "\n",
    "# Working on a pointer of the resource data\n",
    "workspace_data = workspace.resource_data\n",
    "# Alternatively: workspace_data = workspace.data.to_data()\n",
    "workspace.data.is_organization = True\n",
    "print(workspace.data.is_organization) # True"
   ]
  },
  {
   "cell_type": "markdown",
   "metadata": {},
   "source": [
    "---\n",
    "This conclude the series of `PyLapi` tutorials. If you have any questions or experience any issues, please log a [PyLapi ticket on GitHub](https://github.com/jackyko8/pylapi/issues)."
   ]
  },
  {
   "cell_type": "markdown",
   "metadata": {},
   "source": [
    "## End of page"
   ]
  }
 ],
 "metadata": {
  "kernelspec": {
   "display_name": "Python 3",
   "language": "python",
   "name": "python3"
  },
  "language_info": {
   "codemirror_mode": {
    "name": "ipython",
    "version": 3
   },
   "file_extension": ".py",
   "mimetype": "text/x-python",
   "name": "python",
   "nbconvert_exporter": "python",
   "pygments_lexer": "ipython3",
   "version": "3.9.17"
  },
  "orig_nbformat": 4
 },
 "nbformat": 4,
 "nbformat_minor": 2
}
